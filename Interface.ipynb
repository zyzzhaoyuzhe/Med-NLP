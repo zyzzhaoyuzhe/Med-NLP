{
 "cells": [
  {
   "cell_type": "code",
   "execution_count": null,
   "metadata": {
    "collapsed": false,
    "scrolled": false
   },
   "outputs": [],
   "source": [
    "import itertools\n",
    "import pandas as pd\n",
    "import utils\n",
    "from collections import defaultdict, OrderedDict\n",
    "import numpy as np\n",
    "from IPython.display import display\n",
    "import matplotlib.pyplot as plt\n",
    "from scipy.sparse import hstack, vstack"
   ]
  },
  {
   "cell_type": "code",
   "execution_count": 2,
   "metadata": {
    "collapsed": true
   },
   "outputs": [],
   "source": [
    "ordered_names = [u'study',\n",
    "                 u'history',\n",
    "                 u'comparison',\n",
    "                 u'technique',\n",
    "                 u'findings',\n",
    "                 u'impression', \n",
    "                 u'signed by',\n",
    "                 ]"
   ]
  },
  {
   "cell_type": "markdown",
   "metadata": {},
   "source": [
    "--------"
   ]
  },
  {
   "cell_type": "code",
   "execution_count": 23,
   "metadata": {
    "collapsed": true
   },
   "outputs": [],
   "source": [
    "filename = 'Data/upto1528.xlsx'\n",
    "df_raw = pd.read_excel(open(filename, 'r'))"
   ]
  },
  {
   "cell_type": "code",
   "execution_count": 24,
   "metadata": {
    "collapsed": false,
    "scrolled": true
   },
   "outputs": [],
   "source": [
    "# get data frame\n",
    "ps = utils.Parser()\n",
    "ps.parser(df_raw)\n",
    "df = ps.df\n",
    "for idx, row in df['findings'].iteritems():\n",
    "    try:\n",
    "        text, velos = utils.parse_findings(row)\n",
    "        df.set_value(idx, 'findings', text)\n",
    "        for n, v in velos:\n",
    "            df.set_value(idx, n, v)\n",
    "    except:\n",
    "        pass\n",
    "discardField = ['Report Text']\n",
    "foo = [item for item in df.columns.tolist() if item not in ordered_names+discardField]\n",
    "foo.sort()\n",
    "CORE_COL = ordered_names + foo\n",
    "df = df[CORE_COL]\n",
    "df = pd.concat([df_raw[['Past', 'Present', 'Left', 'Right', 'Count']], df[CORE_COL]], axis=1)"
   ]
  },
  {
   "cell_type": "markdown",
   "metadata": {},
   "source": [
    "---------"
   ]
  },
  {
   "cell_type": "markdown",
   "metadata": {},
   "source": [
    "# Classification Model"
   ]
  },
  {
   "cell_type": "markdown",
   "metadata": {},
   "source": [
    "## Use findings and impression to predict present and pass"
   ]
  },
  {
   "cell_type": "code",
   "execution_count": 21,
   "metadata": {
    "collapsed": false
   },
   "outputs": [
    {
     "name": "stdout",
     "output_type": "stream",
     "text": [
      "(5517, 51)\n"
     ]
    }
   ],
   "source": [
    "# turn null to []\n",
    "df = utils.null2empty(df, ['history', 'impression', 'comparison'])\n",
    "print df.shape"
   ]
  },
  {
   "cell_type": "code",
   "execution_count": 29,
   "metadata": {
    "collapsed": false
   },
   "outputs": [
    {
     "name": "stdout",
     "output_type": "stream",
     "text": [
      "(1220, 12147)\n",
      "(307, 12147)\n"
     ]
    }
   ],
   "source": [
    "#for PAST\n",
    "fields = [\n",
    "    'history', \n",
    "    'findings', \n",
    "    'comparison', \n",
    "    'impression'\n",
    "]\n",
    "foo = df[~df['Past'].isnull() & df['Past'] != 0].sample(frac=1, random_state=1)\n",
    "df_train = foo.iloc[:1220]\n",
    "y_train = np.array(df_train['Past'].astype(int))\n",
    "df_test = foo.iloc[1220:]\n",
    "y_test = np.array(df_test['Past'].astype(int))\n",
    "obj = utils.Df2TFIDF()\n",
    "obj.fit(df_train, fields, ngram=5, min_count=5)\n",
    "output_train = obj.transform(df_train, fields)\n",
    "output_test = obj.transform(df_test, fields)\n",
    "# concatenate sparse matrices of all fields\n",
    "x_train = hstack([foo['bow_tfidf'] for foo in output_train.itervalues()])\n",
    "x_test = hstack([foo['bow_tfidf'] for foo in output_test.itervalues()])\n",
    "print x_train.shape\n",
    "print x_test.shape"
   ]
  },
  {
   "cell_type": "code",
   "execution_count": null,
   "metadata": {
    "collapsed": false
   },
   "outputs": [],
   "source": [
    "#for PAST without inconsistency\n",
    "fields = [\n",
    "    'history', \n",
    "    'findings', \n",
    "    'comparison', \n",
    "    'impression',\n",
    "]\n",
    "foo = df[~df['Past'].isnull() & df['Count'] != 1].sample(frac=1)\n",
    "df_train = foo.iloc[:1240]\n",
    "y_train = np.array(df_train['Past'].astype(int))\n",
    "df_test = foo.iloc[1240:]\n",
    "y_test = np.array(df_test['Past'].astype(int))\n",
    "obj = utils.Df2TFIDF()\n",
    "obj.fit(df_train, fields, ngram=5, min_count=5)\n",
    "output_train = obj.transform(df_train, fields)\n",
    "output_test = obj.transform(df_test, fields)\n",
    "# concatenate sparse matrices of all fields\n",
    "from scipy.sparse import hstack\n",
    "x_train = hstack([foo['bow_tfidf'] for foo in output_train.itervalues()])\n",
    "# TODO (xiao)\n",
    "x_test = hstack([foo['bow_tfidf'] for foo in output_test.itervalues()])\n",
    "print x_train.shape\n",
    "print x_test.shape"
   ]
  },
  {
   "cell_type": "code",
   "execution_count": 28,
   "metadata": {
    "collapsed": false
   },
   "outputs": [
    {
     "ename": "UnboundLocalError",
     "evalue": "local variable 'foo' referenced before assignment",
     "output_type": "error",
     "traceback": [
      "\u001b[0;31m---------------------------------------------------------------------------\u001b[0m",
      "\u001b[0;31mUnboundLocalError\u001b[0m                         Traceback (most recent call last)",
      "\u001b[0;32m<ipython-input-28-118abd3e0ffd>\u001b[0m in \u001b[0;36m<module>\u001b[0;34m()\u001b[0m\n\u001b[1;32m     14\u001b[0m \u001b[0my_test\u001b[0m \u001b[0;34m=\u001b[0m \u001b[0mnp\u001b[0m\u001b[0;34m.\u001b[0m\u001b[0marray\u001b[0m\u001b[0;34m(\u001b[0m\u001b[0mdf_test\u001b[0m\u001b[0;34m[\u001b[0m\u001b[0;34m'Present'\u001b[0m\u001b[0;34m]\u001b[0m\u001b[0;34m.\u001b[0m\u001b[0mastype\u001b[0m\u001b[0;34m(\u001b[0m\u001b[0mint\u001b[0m\u001b[0;34m)\u001b[0m\u001b[0;34m)\u001b[0m\u001b[0;34m\u001b[0m\u001b[0m\n\u001b[1;32m     15\u001b[0m \u001b[0mobj\u001b[0m \u001b[0;34m=\u001b[0m \u001b[0mutils\u001b[0m\u001b[0;34m.\u001b[0m\u001b[0mDf2TFIDF\u001b[0m\u001b[0;34m(\u001b[0m\u001b[0;34m)\u001b[0m\u001b[0;34m\u001b[0m\u001b[0m\n\u001b[0;32m---> 16\u001b[0;31m \u001b[0mobj\u001b[0m\u001b[0;34m.\u001b[0m\u001b[0mfit\u001b[0m\u001b[0;34m(\u001b[0m\u001b[0mdf_train\u001b[0m\u001b[0;34m,\u001b[0m \u001b[0mfields\u001b[0m\u001b[0;34m,\u001b[0m \u001b[0mngram\u001b[0m\u001b[0;34m=\u001b[0m\u001b[0;36m5\u001b[0m\u001b[0;34m,\u001b[0m \u001b[0mmin_count\u001b[0m\u001b[0;34m=\u001b[0m\u001b[0;36m2\u001b[0m\u001b[0;34m)\u001b[0m\u001b[0;34m\u001b[0m\u001b[0m\n\u001b[0m\u001b[1;32m     17\u001b[0m \u001b[0moutput_train\u001b[0m \u001b[0;34m=\u001b[0m \u001b[0mobj\u001b[0m\u001b[0;34m.\u001b[0m\u001b[0mtransform\u001b[0m\u001b[0;34m(\u001b[0m\u001b[0mdf_train\u001b[0m\u001b[0;34m,\u001b[0m \u001b[0mfields\u001b[0m\u001b[0;34m)\u001b[0m\u001b[0;34m\u001b[0m\u001b[0m\n\u001b[1;32m     18\u001b[0m \u001b[0moutput_test\u001b[0m \u001b[0;34m=\u001b[0m \u001b[0mobj\u001b[0m\u001b[0;34m.\u001b[0m\u001b[0mtransform\u001b[0m\u001b[0;34m(\u001b[0m\u001b[0mdf_test\u001b[0m\u001b[0;34m,\u001b[0m \u001b[0mfields\u001b[0m\u001b[0;34m)\u001b[0m\u001b[0;34m\u001b[0m\u001b[0m\n",
      "\u001b[0;32m/Users/vincent/Documents/Research/Med-NLP/utils.py\u001b[0m in \u001b[0;36mfit\u001b[0;34m(self, df, names, ngram, min_count)\u001b[0m\n\u001b[1;32m    340\u001b[0m             \u001b[0;32mif\u001b[0m \u001b[0mfield\u001b[0m \u001b[0;32mnot\u001b[0m \u001b[0;32min\u001b[0m \u001b[0mdf\u001b[0m\u001b[0;34m.\u001b[0m\u001b[0mcolumns\u001b[0m\u001b[0;34m:\u001b[0m\u001b[0;34m\u001b[0m\u001b[0m\n\u001b[1;32m    341\u001b[0m                 \u001b[0;32mcontinue\u001b[0m\u001b[0;34m\u001b[0m\u001b[0m\n\u001b[0;32m--> 342\u001b[0;31m             \u001b[0mtexts\u001b[0m \u001b[0;34m=\u001b[0m \u001b[0mdf2texts\u001b[0m\u001b[0;34m(\u001b[0m\u001b[0mdf\u001b[0m\u001b[0;34m,\u001b[0m \u001b[0mfield\u001b[0m\u001b[0;34m)\u001b[0m\u001b[0;34m\u001b[0m\u001b[0m\n\u001b[0m\u001b[1;32m    343\u001b[0m             \u001b[0mword2idx\u001b[0m\u001b[0;34m,\u001b[0m \u001b[0midx2word\u001b[0m \u001b[0;34m=\u001b[0m \u001b[0mngram_counter\u001b[0m\u001b[0;34m(\u001b[0m\u001b[0mtexts\u001b[0m\u001b[0;34m,\u001b[0m \u001b[0mngram\u001b[0m\u001b[0;34m=\u001b[0m\u001b[0mngram\u001b[0m\u001b[0;34m,\u001b[0m \u001b[0mmin_count\u001b[0m\u001b[0;34m=\u001b[0m\u001b[0mmin_count\u001b[0m\u001b[0;34m)\u001b[0m\u001b[0;34m\u001b[0m\u001b[0m\n\u001b[1;32m    344\u001b[0m             \u001b[0mself\u001b[0m\u001b[0;34m.\u001b[0m\u001b[0mword2idx\u001b[0m\u001b[0;34m[\u001b[0m\u001b[0mfield\u001b[0m\u001b[0;34m]\u001b[0m \u001b[0;34m=\u001b[0m \u001b[0mword2idx\u001b[0m\u001b[0;34m\u001b[0m\u001b[0m\n",
      "\u001b[0;32m/Users/vincent/Documents/Research/Med-NLP/utils.py\u001b[0m in \u001b[0;36mdf2texts\u001b[0;34m(df, field)\u001b[0m\n\u001b[1;32m    268\u001b[0m                 \u001b[0msent\u001b[0m \u001b[0;34m=\u001b[0m \u001b[0mremove_puncdigit\u001b[0m\u001b[0;34m(\u001b[0m\u001b[0msent\u001b[0m\u001b[0;34m)\u001b[0m\u001b[0;34m\u001b[0m\u001b[0m\n\u001b[1;32m    269\u001b[0m                 \u001b[0mfoo\u001b[0m \u001b[0;34m=\u001b[0m \u001b[0;34m' '\u001b[0m\u001b[0;34m.\u001b[0m\u001b[0mjoin\u001b[0m\u001b[0;34m(\u001b[0m\u001b[0;34m[\u001b[0m\u001b[0mfoo\u001b[0m\u001b[0;34m,\u001b[0m \u001b[0msent\u001b[0m\u001b[0;34m]\u001b[0m\u001b[0;34m)\u001b[0m\u001b[0;34m\u001b[0m\u001b[0m\n\u001b[0;32m--> 270\u001b[0;31m         \u001b[0mtexts\u001b[0m\u001b[0;34m.\u001b[0m\u001b[0mappend\u001b[0m\u001b[0;34m(\u001b[0m\u001b[0mfoo\u001b[0m\u001b[0;34m.\u001b[0m\u001b[0mstrip\u001b[0m\u001b[0;34m(\u001b[0m\u001b[0;34m)\u001b[0m\u001b[0;34m)\u001b[0m\u001b[0;34m\u001b[0m\u001b[0m\n\u001b[0m\u001b[1;32m    271\u001b[0m     \u001b[0;32mreturn\u001b[0m \u001b[0mtexts\u001b[0m\u001b[0;34m\u001b[0m\u001b[0m\n\u001b[1;32m    272\u001b[0m \u001b[0;34m\u001b[0m\u001b[0m\n",
      "\u001b[0;31mUnboundLocalError\u001b[0m: local variable 'foo' referenced before assignment"
     ]
    }
   ],
   "source": [
    "#for PRESENT\n",
    "fields = [\n",
    "    'history', \n",
    "    'findings', \n",
    "    'comparison',\n",
    "    'impression',\n",
    "]\n",
    "#'history', 'impression', 'findings', 'comparison'\n",
    "foo = df[~df['Present'].isnull()].sample(frac=1)\n",
    "foo = foo.loc[foo['Present']!=0, :]\n",
    "df_train = foo.iloc[:1100]\n",
    "y_train = np.array(df_train['Present'].astype(int))\n",
    "df_test = foo.iloc[1100:]\n",
    "y_test = np.array(df_test['Present'].astype(int))\n",
    "obj = utils.Df2TFIDF()\n",
    "obj.fit(df_train, fields, ngram=5, min_count=2)\n",
    "output_train = obj.transform(df_train, fields)\n",
    "output_test = obj.transform(df_test, fields)\n",
    "# concatenate sparse matrices of all fields\n",
    "x_train = hstack([foo['bow_tfidf'] for foo in output_train.itervalues()])\n",
    "x_test = hstack([foo['bow_tfidf'] for foo in output_test.itervalues()])\n",
    "print x_train.shape\n",
    "print x_test.shape"
   ]
  },
  {
   "cell_type": "code",
   "execution_count": null,
   "metadata": {
    "collapsed": false
   },
   "outputs": [],
   "source": [
    "#for Left Grade\n",
    "fields = ['history', 'findings', 'comparison','impression']\n",
    "foo = df[~df['Left'].isnull() & df['Left'] != 0].sample(frac=1)\n",
    "df_train = foo.iloc[:210]\n",
    "y_train = np.array(df_train['Past'].astype(int))\n",
    "df_test = foo.iloc[210:]\n",
    "y_test = np.array(df_test['Past'].astype(int))\n",
    "obj = utils.Df2TFIDF()\n",
    "obj.fit(df_train, fields, ngram=5, min_count=5)\n",
    "output_train = obj.transform(df_train, fields)\n",
    "output_test = obj.transform(df_test, fields)\n",
    "\n",
    "# concatenate sparse matrices of all fields\n",
    "from scipy.sparse import hstack\n",
    "x_train = hstack([foo['bow_tfidf'] for foo in output_train.itervalues()])\n",
    "# TODO (xiao)\n",
    "x_test = hstack([foo['bow_tfidf'] for foo in output_test.itervalues()])\n",
    "print x_train.shape\n",
    "print x_test.shape"
   ]
  },
  {
   "cell_type": "code",
   "execution_count": null,
   "metadata": {
    "collapsed": false
   },
   "outputs": [],
   "source": [
    "#for Left Grade\n",
    "fields = ['history', 'findings', 'comparison','impression']\n",
    "foo = df[~df['Right'].isnull() & df['Right'] != 0].sample(frac=1)\n",
    "df_train = foo.iloc[:200]\n",
    "y_train = np.array(df_train['Past'].astype(int))\n",
    "df_test = foo.iloc[200:]\n",
    "y_test = np.array(df_test['Past'].astype(int))\n",
    "obj = utils.Df2TFIDF()\n",
    "obj.fit(df_train, fields, ngram=5, min_count=5)\n",
    "output_train = obj.transform(df_train, fields)\n",
    "output_test = obj.transform(df_test, fields)\n",
    "\n",
    "# concatenate sparse matrices of all fields\n",
    "from scipy.sparse import hstack\n",
    "x_train = hstack([foo['bow_tfidf'] for foo in output_train.itervalues()])\n",
    "# TODO (xiao)\n",
    "x_test = hstack([foo['bow_tfidf'] for foo in output_test.itervalues()])\n",
    "print x_train.shape\n",
    "print x_test.shape"
   ]
  },
  {
   "cell_type": "markdown",
   "metadata": {},
   "source": [
    "### run classifier"
   ]
  },
  {
   "cell_type": "code",
   "execution_count": 30,
   "metadata": {
    "collapsed": false
   },
   "outputs": [],
   "source": [
    "from sklearn.svm import LinearSVC, SVC\n",
    "from sklearn.linear_model import LogisticRegression\n",
    "# svm\n",
    "clf = LinearSVC(C=1, loss='squared_hinge')\n",
    "#clf = SVC()\n",
    "#clf = LogisticRegression(C=3)\n",
    "\n",
    "clf.fit(x_train, y_train)\n",
    "coef = clf.coef_.squeeze()"
   ]
  },
  {
   "cell_type": "code",
   "execution_count": 31,
   "metadata": {
    "collapsed": false
   },
   "outputs": [
    {
     "data": {
      "text/html": [
       "<div>\n",
       "<table border=\"1\" class=\"dataframe\">\n",
       "  <thead>\n",
       "    <tr style=\"text-align: right;\">\n",
       "      <th></th>\n",
       "      <th>NPV</th>\n",
       "      <th>accuracy</th>\n",
       "      <th>precision</th>\n",
       "      <th>sensitivity</th>\n",
       "      <th>specificity</th>\n",
       "    </tr>\n",
       "  </thead>\n",
       "  <tbody>\n",
       "    <tr>\n",
       "      <th>training</th>\n",
       "      <td>1.000000</td>\n",
       "      <td>1.000000</td>\n",
       "      <td>1.000000</td>\n",
       "      <td>1.000000</td>\n",
       "      <td>1.000000</td>\n",
       "    </tr>\n",
       "    <tr>\n",
       "      <th>testing</th>\n",
       "      <td>0.954357</td>\n",
       "      <td>0.918567</td>\n",
       "      <td>0.787879</td>\n",
       "      <td>0.825397</td>\n",
       "      <td>0.942623</td>\n",
       "    </tr>\n",
       "  </tbody>\n",
       "</table>\n",
       "</div>"
      ],
      "text/plain": [
       "               NPV  accuracy  precision  sensitivity  specificity\n",
       "training  1.000000  1.000000   1.000000     1.000000     1.000000\n",
       "testing   0.954357  0.918567   0.787879     0.825397     0.942623"
      ]
     },
     "metadata": {},
     "output_type": "display_data"
    }
   ],
   "source": [
    "y_train_pred = clf.predict(x_train)\n",
    "y_test_pred = clf.predict(x_test)\n",
    "results = pd.concat([utils.my_classification_report(y_train, y_train_pred),\n",
    "                     utils.my_classification_report(y_test, y_test_pred),\n",
    "                     ], axis=1).transpose()\n",
    "results.index = ['training', 'testing']\n",
    "display(results)"
   ]
  },
  {
   "cell_type": "code",
   "execution_count": null,
   "metadata": {
    "collapsed": false
   },
   "outputs": [],
   "source": [
    "# features with the big weights\n",
    "idx = np.absolute(coef).argsort()[::-1]\n",
    "plt.plot(coef[idx])\n",
    "plt.show()\n",
    "idx2word_agg = pd.Series(obj.idx2word_concat)\n",
    "display(idx2word_agg[idx[:20]])"
   ]
  },
  {
   "cell_type": "code",
   "execution_count": null,
   "metadata": {
    "collapsed": false
   },
   "outputs": [],
   "source": [
    "# output failed cases.\n",
    "pd.set_option('display.max_colwidth', -1)\n",
    "fields = [\n",
    "    'Past',\n",
    "    'history', \n",
    "    'findings', \n",
    "    'comparison', \n",
    "    'impression'\n",
    "]\n",
    "false_positive = (y_test_pred - y_test) > 0\n",
    "display(df_test.loc[false_positive,fields].applymap(utils.list2str))"
   ]
  },
  {
   "cell_type": "markdown",
   "metadata": {},
   "source": [
    "---\n",
    "# Semi - Supervised Learning"
   ]
  },
  {
   "cell_type": "markdown",
   "metadata": {},
   "source": [
    "## Prepare data"
   ]
  },
  {
   "cell_type": "markdown",
   "metadata": {},
   "source": [
    "### Labeled Data"
   ]
  },
  {
   "cell_type": "code",
   "execution_count": 3,
   "metadata": {
    "collapsed": true
   },
   "outputs": [],
   "source": [
    "filename = 'Data/upto1528.xlsx'\n",
    "df_raw = pd.read_excel(open(filename, 'r'))\n",
    "# get data frame\n",
    "ps = utils.Parser()\n",
    "ps.parser(df_raw)\n",
    "df = ps.df\n",
    "for idx, row in df['findings'].iteritems():\n",
    "    try:\n",
    "        text, velos = utils.parse_findings(row)\n",
    "        df.set_value(idx, 'findings', text)\n",
    "        for n, v in velos:\n",
    "            df.set_value(idx, n, v)\n",
    "    except:\n",
    "        pass\n",
    "discardField = ['Report Text']\n",
    "foo = [item for item in df.columns.tolist() if item not in ordered_names+discardField]\n",
    "foo.sort()\n",
    "CORE_COL = ordered_names + foo\n",
    "df = df[CORE_COL]\n",
    "df_labeled = pd.concat([df_raw[['Past', 'Present', 'Left', 'Right', 'Count']], df[CORE_COL]], axis=1)"
   ]
  },
  {
   "cell_type": "markdown",
   "metadata": {},
   "source": [
    "### Unlabeled Data"
   ]
  },
  {
   "cell_type": "code",
   "execution_count": 4,
   "metadata": {
    "collapsed": false
   },
   "outputs": [],
   "source": [
    "filename = 'Data/2011-2016.xlsx'\n",
    "df_raw = pd.read_excel(open(filename, 'r'))\n",
    "# get data frame\n",
    "ps = utils.Parser()\n",
    "ps.parser(df_raw)\n",
    "df = ps.df\n",
    "for idx, row in df['findings'].iteritems():\n",
    "    try:\n",
    "        text, velos = utils.parse_findings(row)\n",
    "        df.set_value(idx, 'findings', text)\n",
    "        for n, v in velos:\n",
    "            df.set_value(idx, n, v)\n",
    "    except:\n",
    "        pass\n",
    "discardField = ['Report Text']\n",
    "foo = [item for item in df.columns.tolist() if item not in ordered_names+discardField]\n",
    "foo.sort()\n",
    "CORE_COL = ordered_names + foo\n",
    "df_unlabeled = df[CORE_COL]\n",
    "# df = pd.concat([df_raw[['Past', 'Present', 'Left', 'Right', 'Count']], df[CORE_COL]], axis=1)"
   ]
  },
  {
   "cell_type": "markdown",
   "metadata": {},
   "source": [
    "----"
   ]
  },
  {
   "cell_type": "code",
   "execution_count": 17,
   "metadata": {
    "collapsed": false
   },
   "outputs": [
    {
     "name": "stdout",
     "output_type": "stream",
     "text": [
      "(1220, 11495)\n",
      "(307, 11495)\n",
      "(5517, 11495)\n"
     ]
    }
   ],
   "source": [
    "#for PAST\n",
    "fields = [\n",
    "    'history', \n",
    "    'findings', \n",
    "    'comparison', \n",
    "    'impression'\n",
    "]\n",
    "# labeled data\n",
    "df_labeled = utils.null2empty(df_labeled, fields)\n",
    "foo = df_labeled[~df_labeled['Past'].isnull() & df_labeled['Past'] != 0].sample(frac=1, random_state=1)\n",
    "df_train_labeled = foo.iloc[:1220]\n",
    "y_train_labeled = np.array(df_train_labeled['Past'].astype(int))\n",
    "y_train_labeled[y_train_labeled==-1] = 0 # turn -1 to 0\n",
    "df_test = foo.iloc[1220:]\n",
    "y_test = np.array(df_test['Past'].astype(int))\n",
    "y_test[y_test==-1] = 0 # turn -1 to 0\n",
    "obj = utils.Df2TFIDF()\n",
    "obj.fit(df_train_labeled, fields, ngram=5, min_count=5)\n",
    "output_train_labeled = obj.transform(df_train_labeled, fields)\n",
    "output_test = obj.transform(df_test, fields)\n",
    "# concatenate sparse matrices of all fields\n",
    "x_train_labeled = hstack([foo['bow_tfidf'] for foo in output_train_labeled.itervalues()])\n",
    "x_test = hstack([foo['bow_tfidf'] for foo in output_test.itervalues()])\n",
    "print x_train_labeled.shape\n",
    "print x_test.shape\n",
    "# unlabeled data\n",
    "df_unlabeled = utils.null2empty(df_unlabeled, fields)\n",
    "# obj = utils.Df2TFIDF()\n",
    "# obj.fit(df_train_unlabeled, fields, ngram=5, min_count=5)\n",
    "output_train_unlabeled = obj.transform(df_unlabeled, fields)\n",
    "x_train_unlabeled = hstack([foo['bow_tfidf'] for foo in output_train_unlabeled.itervalues()])\n",
    "print x_train_unlabeled.shape"
   ]
  },
  {
   "cell_type": "code",
   "execution_count": 7,
   "metadata": {
    "collapsed": false
   },
   "outputs": [],
   "source": [
    "x_train = vstack([x_train_labeled, x_train_unlabeled])\n",
    "y_train = np.append(y_train_labeled, np.ones(x_train_unlabeled.shape[0], dtype=int) * -1)"
   ]
  },
  {
   "cell_type": "code",
   "execution_count": 8,
   "metadata": {
    "collapsed": false
   },
   "outputs": [
    {
     "data": {
      "text/plain": [
       "LabelPropagation(alpha=1, gamma=20, kernel='rbf', max_iter=30, n_jobs=-1,\n",
       "         n_neighbors=7, tol=0.001)"
      ]
     },
     "execution_count": 8,
     "metadata": {},
     "output_type": "execute_result"
    }
   ],
   "source": [
    "from sklearn.semi_supervised import LabelPropagation\n",
    "semi_clf = LabelPropagation(kernel='rbf', gamma=20, n_jobs=-1)\n",
    "semi_clf.fit(x_train.toarray(), y_train)"
   ]
  },
  {
   "cell_type": "code",
   "execution_count": 19,
   "metadata": {
    "collapsed": false
   },
   "outputs": [
    {
     "data": {
      "text/html": [
       "<div>\n",
       "<table border=\"1\" class=\"dataframe\">\n",
       "  <thead>\n",
       "    <tr style=\"text-align: right;\">\n",
       "      <th></th>\n",
       "      <th>NPV</th>\n",
       "      <th>accuracy</th>\n",
       "      <th>precision</th>\n",
       "      <th>sensitivity</th>\n",
       "      <th>specificity</th>\n",
       "    </tr>\n",
       "  </thead>\n",
       "  <tbody>\n",
       "    <tr>\n",
       "      <th>training</th>\n",
       "      <td>0.998924</td>\n",
       "      <td>0.999180</td>\n",
       "      <td>1.00000</td>\n",
       "      <td>0.996575</td>\n",
       "      <td>1.000000</td>\n",
       "    </tr>\n",
       "    <tr>\n",
       "      <th>testing</th>\n",
       "      <td>0.913580</td>\n",
       "      <td>0.859935</td>\n",
       "      <td>0.65625</td>\n",
       "      <td>0.666667</td>\n",
       "      <td>0.909836</td>\n",
       "    </tr>\n",
       "  </tbody>\n",
       "</table>\n",
       "</div>"
      ],
      "text/plain": [
       "               NPV  accuracy  precision  sensitivity  specificity\n",
       "training  0.998924  0.999180    1.00000     0.996575     1.000000\n",
       "testing   0.913580  0.859935    0.65625     0.666667     0.909836"
      ]
     },
     "metadata": {},
     "output_type": "display_data"
    }
   ],
   "source": [
    "y_train_pred = semi_clf.predict(x_train_labeled.toarray())\n",
    "y_test_pred = semi_clf.predict(x_test.toarray())\n",
    "results = pd.concat([utils.my_classification_report(y_train_labeled, y_train_pred),\n",
    "                     utils.my_classification_report(y_test, y_test_pred),\n",
    "                     ], axis=1).transpose()\n",
    "results.index = ['training', 'testing']\n",
    "display(results)"
   ]
  }
 ],
 "metadata": {
  "kernelspec": {
   "display_name": "Python 2",
   "language": "python",
   "name": "python2"
  },
  "language_info": {
   "codemirror_mode": {
    "name": "ipython",
    "version": 2
   },
   "file_extension": ".py",
   "mimetype": "text/x-python",
   "name": "python",
   "nbconvert_exporter": "python",
   "pygments_lexer": "ipython2",
   "version": "2.7.10"
  }
 },
 "nbformat": 4,
 "nbformat_minor": 0
}
