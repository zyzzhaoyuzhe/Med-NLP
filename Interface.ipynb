{
 "cells": [
  {
   "cell_type": "code",
   "execution_count": 1,
   "metadata": {
    "scrolled": false
   },
   "outputs": [],
   "source": [
    "import itertools\n",
    "import pandas as pd\n",
    "import utils\n",
    "from collections import defaultdict, OrderedDict\n",
    "import numpy as np\n",
    "from IPython.display import display\n",
    "import matplotlib.pyplot as plt\n",
    "from scipy.sparse import hstack, vstack\n",
    "import tensorflow as tf"
   ]
  },
  {
   "cell_type": "code",
   "execution_count": 2,
   "metadata": {},
   "outputs": [],
   "source": [
    "ordered_names = [u'study',\n",
    "                 u'history',\n",
    "                 u'comparison',\n",
    "                 u'technique',\n",
    "                 u'findings',\n",
    "                 u'impression', \n",
    "                 u'signed by',\n",
    "                 ]"
   ]
  },
  {
   "cell_type": "markdown",
   "metadata": {},
   "source": [
    "--------\n",
    "## Read data"
   ]
  },
  {
   "cell_type": "code",
   "execution_count": 3,
   "metadata": {},
   "outputs": [],
   "source": [
    "filename = 'Data/upto1528.xlsx'\n",
    "df_raw = pd.read_excel(open(filename, 'rb'))"
   ]
  },
  {
   "cell_type": "code",
   "execution_count": 4,
   "metadata": {
    "scrolled": true
   },
   "outputs": [
    {
     "name": "stdout",
     "output_type": "stream",
     "text": [
      "(1527, 52)\n"
     ]
    },
    {
     "name": "stderr",
     "output_type": "stream",
     "text": [
      "/home/vzhao/miniconda3/envs/nlp/lib/python3.6/site-packages/pandas/core/indexing.py:194: SettingWithCopyWarning: \n",
      "A value is trying to be set on a copy of a slice from a DataFrame\n",
      "\n",
      "See the caveats in the documentation: http://pandas.pydata.org/pandas-docs/stable/indexing.html#indexing-view-versus-copy\n",
      "  self._setitem_with_indexer(indexer, value)\n"
     ]
    }
   ],
   "source": [
    "# Data is stored in df\n",
    "ps = utils.Parser()\n",
    "ps.parse(df_raw)\n",
    "df = ps.df\n",
    "for idx, row in df['findings'].items():\n",
    "    try:\n",
    "        text, velos = utils.parse_findings(row)\n",
    "        df.at[idx, 'findings'] = text\n",
    "        for n, v in velos:\n",
    "            df.at[0, n] = v\n",
    "    except:\n",
    "        pass\n",
    "discardField = ['Report Text']\n",
    "foo = [item for item in df.columns.tolist() if item not in ordered_names+discardField]\n",
    "foo.sort()\n",
    "CORE_COL = ordered_names + foo\n",
    "df = df[CORE_COL]\n",
    "df = pd.concat([df_raw[['Past', 'Present', 'Left', 'Right', 'Count']], df[CORE_COL]], axis=1)\n",
    "# turn null to []\n",
    "df = utils.null2empty(df, ['history', 'impression', 'comparison'])\n",
    "print(df.shape)"
   ]
  },
  {
   "cell_type": "code",
   "execution_count": 5,
   "metadata": {},
   "outputs": [
    {
     "data": {
      "text/plain": [
       "['1. status post left carotid endarterectomy with tortuosity of the internal carotid artery with peak systolic velocity and an ica/cca ratio consistent with a 50-69% stenosis.',\n",
       " '2. status post right internal carotid endarterectomy and stent placement with no hemodynamically significant stenosis.',\n",
       " '3. residual moderate atherosclerotic plaque in the left carotid bulb proximal to the endarterectomy.',\n",
       " 'analysis of internal carotid stenosis is based on duplex doppler velocity parameters that correlate with the calculation of an internal carotid artery stenosis according to the nascet criteria.']"
      ]
     },
     "execution_count": 5,
     "metadata": {},
     "output_type": "execute_result"
    }
   ],
   "source": [
    "df['impression'][1]"
   ]
  },
  {
   "cell_type": "markdown",
   "metadata": {},
   "source": [
    "---\n",
    "---\n",
    "# CNN"
   ]
  },
  {
   "cell_type": "code",
   "execution_count": 6,
   "metadata": {},
   "outputs": [
    {
     "data": {
      "text/plain": [
       "['-f',\n",
       " '/run/user/1000/jupyter/kernel-2b90ff0f-494f-497e-a514-66a3ae52217a.json']"
      ]
     },
     "execution_count": 6,
     "metadata": {},
     "output_type": "execute_result"
    }
   ],
   "source": [
    "# Data loading params\n",
    "tf.flags.DEFINE_float(\"dev_sample_percentage\", .1, \"Percentage of the training data to use for validation\")\n",
    "# tf.flags.DEFINE_string(\"positive_data_file\", \"./data/rt-polaritydata/rt-polarity.pos\", \"Data source for the positive data.\")\n",
    "# tf.flags.DEFINE_string(\"negative_data_file\", \"./data/rt-polaritydata/rt-polarity.neg\", \"Data source for the negative data.\")\n",
    "\n",
    "# Model Hyperparameters\n",
    "tf.flags.DEFINE_integer(\"embedding_dim\", 128, \"Dimensionality of character embedding (default: 128)\")\n",
    "tf.flags.DEFINE_string(\"filter_sizes\", \"3,4,5\", \"Comma-separated filter sizes (default: '3,4,5')\")\n",
    "tf.flags.DEFINE_integer(\"num_filters\", 128, \"Number of filters per filter size (default: 128)\")\n",
    "tf.flags.DEFINE_float(\"dropout_keep_prob\", 0.5, \"Dropout keep probability (default: 0.5)\")\n",
    "tf.flags.DEFINE_float(\"l2_reg_lambda\", 0.0, \"L2 regularization lambda (default: 0.0)\")\n",
    "\n",
    "# Training parameters\n",
    "tf.flags.DEFINE_integer(\"batch_size\", 64, \"Batch Size (default: 64)\")\n",
    "tf.flags.DEFINE_integer(\"num_epochs\", 200, \"Number of training epochs (default: 200)\")\n",
    "tf.flags.DEFINE_integer(\"evaluate_every\", 100, \"Evaluate model on dev set after this many steps (default: 100)\")\n",
    "tf.flags.DEFINE_integer(\"checkpoint_every\", 100, \"Save model after this many steps (default: 100)\")\n",
    "tf.flags.DEFINE_integer(\"num_checkpoints\", 5, \"Number of checkpoints to store (default: 5)\")\n",
    "# Misc Parameters\n",
    "tf.flags.DEFINE_boolean(\"allow_soft_placement\", True, \"Allow device soft device placement\")\n",
    "tf.flags.DEFINE_boolean(\"log_device_placement\", False, \"Log placement of ops on devices\")\n",
    "\n",
    "FLAGS = tf.flags.FLAGS\n",
    "FLAGS._parse_flags()"
   ]
  },
  {
   "cell_type": "code",
   "execution_count": 7,
   "metadata": {},
   "outputs": [],
   "source": [
    "x_text = utils.df2texts(df, 'findings')\n",
    "word2idx, idx2word = utils.ngram_vocab_processor(x_text, ngram=1, min_count=2)\n",
    "x = np.array(utils.encode_texts(x_text, word2idx))\n",
    "\n",
    "y = df['Past'].values[:, None]\n",
    "y = np.concatenate([(y + 1) / 2, (1 - y) / 2], axis=1).astype(np.int)"
   ]
  },
  {
   "cell_type": "code",
   "execution_count": 8,
   "metadata": {},
   "outputs": [],
   "source": [
    "# Randomly shuffle data\n",
    "np.random.seed(10)\n",
    "shuffle_indices = np.random.permutation(np.arange(len(y)))\n",
    "x_shuffled = x[shuffle_indices]\n",
    "y_shuffled = y[shuffle_indices]"
   ]
  },
  {
   "cell_type": "code",
   "execution_count": 9,
   "metadata": {},
   "outputs": [],
   "source": [
    "# Split train/test set\n",
    "# TODO: This is very crude, should use cross-validation\n",
    "dev_sample_index = -1 * int(FLAGS.dev_sample_percentage * float(len(y)))\n",
    "x_train, x_dev = x_shuffled[:dev_sample_index], x_shuffled[dev_sample_index:]\n",
    "y_train, y_dev = y_shuffled[:dev_sample_index], y_shuffled[dev_sample_index:]"
   ]
  },
  {
   "cell_type": "code",
   "execution_count": 11,
   "metadata": {},
   "outputs": [],
   "source": [
    "del x, y, x_shuffled, y_shuffled"
   ]
  },
  {
   "cell_type": "code",
   "execution_count": null,
   "metadata": {},
   "outputs": [],
   "source": [
    "with tf.Graph().as_default():\n",
    "    session_conf = tf.ConfigProto(\n",
    "      allow_soft_placement=FLAGS.allow_soft_placement,\n",
    "      log_device_placement=FLAGS.log_device_placement)\n",
    "    sess = tf.Session(config=session_conf)\n",
    "    with sess.as_default():\n",
    "        cnn = TextCNN(\n",
    "            sequence_length=x_train.shape[1],\n",
    "            num_classes=y_train.shape[1],\n",
    "            vocab_size=len(vocab_processor.vocabulary_),\n",
    "            embedding_size=FLAGS.embedding_dim,\n",
    "            filter_sizes=list(map(int, FLAGS.filter_sizes.split(\",\"))),\n",
    "            num_filters=FLAGS.num_filters,\n",
    "            l2_reg_lambda=FLAGS.l2_reg_lambda)\n",
    "\n",
    "        # Define Training procedure\n",
    "        global_step = tf.Variable(0, name=\"global_step\", trainable=False)\n",
    "        optimizer = tf.train.AdamOptimizer(1e-3)\n",
    "        grads_and_vars = optimizer.compute_gradients(cnn.loss)\n",
    "        train_op = optimizer.apply_gradients(grads_and_vars, global_step=global_step)\n",
    "\n",
    "        # Keep track of gradient values and sparsity (optional)\n",
    "        grad_summaries = []\n",
    "        for g, v in grads_and_vars:\n",
    "            if g is not None:\n",
    "                grad_hist_summary = tf.summary.histogram(\"{}/grad/hist\".format(v.name), g)\n",
    "                sparsity_summary = tf.summary.scalar(\"{}/grad/sparsity\".format(v.name), tf.nn.zero_fraction(g))\n",
    "                grad_summaries.append(grad_hist_summary)\n",
    "                grad_summaries.append(sparsity_summary)\n",
    "        grad_summaries_merged = tf.summary.merge(grad_summaries)\n",
    "\n",
    "        # Output directory for models and summaries\n",
    "        timestamp = str(int(time.time()))\n",
    "        out_dir = os.path.abspath(os.path.join(os.path.curdir, \"runs\", timestamp))\n",
    "        print(\"Writing to {}\\n\".format(out_dir))\n",
    "\n",
    "        # Summaries for loss and accuracy\n",
    "        loss_summary = tf.summary.scalar(\"loss\", cnn.loss)\n",
    "        acc_summary = tf.summary.scalar(\"accuracy\", cnn.accuracy)\n",
    "\n",
    "        # Train Summaries\n",
    "        train_summary_op = tf.summary.merge([loss_summary, acc_summary, grad_summaries_merged])\n",
    "        train_summary_dir = os.path.join(out_dir, \"summaries\", \"train\")\n",
    "        train_summary_writer = tf.summary.FileWriter(train_summary_dir, sess.graph)\n",
    "\n",
    "        # Dev summaries\n",
    "        dev_summary_op = tf.summary.merge([loss_summary, acc_summary])\n",
    "        dev_summary_dir = os.path.join(out_dir, \"summaries\", \"dev\")\n",
    "        dev_summary_writer = tf.summary.FileWriter(dev_summary_dir, sess.graph)\n",
    "\n",
    "        # Checkpoint directory. Tensorflow assumes this directory already exists so we need to create it\n",
    "        checkpoint_dir = os.path.abspath(os.path.join(out_dir, \"checkpoints\"))\n",
    "        checkpoint_prefix = os.path.join(checkpoint_dir, \"model\")\n",
    "        if not os.path.exists(checkpoint_dir):\n",
    "            os.makedirs(checkpoint_dir)\n",
    "        saver = tf.train.Saver(tf.global_variables(), max_to_keep=FLAGS.num_checkpoints)\n",
    "\n",
    "        # Write vocabulary\n",
    "        vocab_processor.save(os.path.join(out_dir, \"vocab\"))\n",
    "\n",
    "        # Initialize all variables\n",
    "        sess.run(tf.global_variables_initializer())\n",
    "\n",
    "        def train_step(x_batch, y_batch):\n",
    "            \"\"\"\n",
    "            A single training step\n",
    "            \"\"\"\n",
    "            feed_dict = {\n",
    "              cnn.input_x: x_batch,\n",
    "              cnn.input_y: y_batch,\n",
    "              cnn.dropout_keep_prob: FLAGS.dropout_keep_prob\n",
    "            }\n",
    "            _, step, summaries, loss, accuracy = sess.run(\n",
    "                [train_op, global_step, train_summary_op, cnn.loss, cnn.accuracy],\n",
    "                feed_dict)\n",
    "            time_str = datetime.datetime.now().isoformat()\n",
    "            print(\"{}: step {}, loss {:g}, acc {:g}\".format(time_str, step, loss, accuracy))\n",
    "            train_summary_writer.add_summary(summaries, step)\n",
    "\n",
    "        def dev_step(x_batch, y_batch, writer=None):\n",
    "            \"\"\"\n",
    "            Evaluates model on a dev set\n",
    "            \"\"\"\n",
    "            feed_dict = {\n",
    "              cnn.input_x: x_batch,\n",
    "              cnn.input_y: y_batch,\n",
    "              cnn.dropout_keep_prob: 1.0\n",
    "            }\n",
    "            step, summaries, loss, accuracy = sess.run(\n",
    "                [global_step, dev_summary_op, cnn.loss, cnn.accuracy],\n",
    "                feed_dict)\n",
    "            time_str = datetime.datetime.now().isoformat()\n",
    "            print(\"{}: step {}, loss {:g}, acc {:g}\".format(time_str, step, loss, accuracy))\n",
    "            if writer:\n",
    "                writer.add_summary(summaries, step)\n",
    "\n",
    "        # Generate batches\n",
    "        batches = data_helpers.batch_iter(\n",
    "            list(zip(x_train, y_train)), FLAGS.batch_size, FLAGS.num_epochs)\n",
    "        # Training loop. For each batch...\n",
    "        for batch in batches:\n",
    "            x_batch, y_batch = zip(*batch)\n",
    "            train_step(x_batch, y_batch)\n",
    "            current_step = tf.train.global_step(sess, global_step)\n",
    "            if current_step % FLAGS.evaluate_every == 0:\n",
    "                print(\"\\nEvaluation:\")\n",
    "                dev_step(x_dev, y_dev, writer=dev_summary_writer)\n",
    "                print(\"\")\n",
    "            if current_step % FLAGS.checkpoint_every == 0:\n",
    "                path = saver.save(sess, checkpoint_prefix, global_step=current_step)\n",
    "                print(\"Saved model checkpoint to {}\\n\".format(path))"
   ]
  },
  {
   "cell_type": "code",
   "execution_count": null,
   "metadata": {},
   "outputs": [],
   "source": []
  },
  {
   "cell_type": "code",
   "execution_count": null,
   "metadata": {},
   "outputs": [],
   "source": []
  },
  {
   "cell_type": "code",
   "execution_count": null,
   "metadata": {},
   "outputs": [],
   "source": []
  },
  {
   "cell_type": "markdown",
   "metadata": {},
   "source": [
    "### Sandbox"
   ]
  },
  {
   "cell_type": "code",
   "execution_count": null,
   "metadata": {},
   "outputs": [],
   "source": []
  },
  {
   "cell_type": "code",
   "execution_count": null,
   "metadata": {},
   "outputs": [],
   "source": [
    "a = [len(s) for s in cc]"
   ]
  },
  {
   "cell_type": "code",
   "execution_count": null,
   "metadata": {},
   "outputs": [],
   "source": [
    "plt.hist(a)"
   ]
  },
  {
   "cell_type": "markdown",
   "metadata": {},
   "source": [
    "---------"
   ]
  },
  {
   "cell_type": "markdown",
   "metadata": {},
   "source": [
    "## Classification Model"
   ]
  },
  {
   "cell_type": "markdown",
   "metadata": {},
   "source": [
    "## Use findings and impression to predict present and pass"
   ]
  },
  {
   "cell_type": "code",
   "execution_count": null,
   "metadata": {},
   "outputs": [],
   "source": [
    "# To predict PAST\n",
    "fields = [\n",
    "    'history', \n",
    "    'findings', \n",
    "    'comparison', \n",
    "    'impression'\n",
    "]\n",
    "\n",
    "foo = df[~df['Past'].isnull() & df['Past'] != 0].sample(frac=1, random_state=1)\n",
    "\n",
    "df_train = foo.iloc[:1220]\n",
    "y_train = np.array(df_train['Past'].astype(int))\n",
    "\n",
    "df_test = foo.iloc[1220:]\n",
    "y_test = np.array(df_test['Past'].astype(int))\n",
    "\n",
    "obj = utils.Df2TFIDF()\n",
    "obj.fit(df_train, fields, ngram=5, min_count=5)\n",
    "output_train = obj.transform(df_train, fields)\n",
    "output_test = obj.transform(df_test, fields)\n",
    "# concatenate sparse matrices of all fields\n",
    "x_train = hstack([foo['bow_tfidf'] for foo in output_train.values()])\n",
    "x_test = hstack([foo['bow_tfidf'] for foo in output_test.values()])\n",
    "print(x_train.shape)\n",
    "print(x_test.shape)"
   ]
  },
  {
   "cell_type": "code",
   "execution_count": null,
   "metadata": {},
   "outputs": [],
   "source": [
    "df_train.head()"
   ]
  },
  {
   "cell_type": "code",
   "execution_count": null,
   "metadata": {},
   "outputs": [],
   "source": []
  },
  {
   "cell_type": "code",
   "execution_count": null,
   "metadata": {},
   "outputs": [],
   "source": []
  },
  {
   "cell_type": "code",
   "execution_count": null,
   "metadata": {},
   "outputs": [],
   "source": [
    "fields"
   ]
  },
  {
   "cell_type": "code",
   "execution_count": null,
   "metadata": {},
   "outputs": [],
   "source": [
    "obj.transform(df_train, fields)['history']"
   ]
  },
  {
   "cell_type": "code",
   "execution_count": null,
   "metadata": {},
   "outputs": [],
   "source": [
    "#for PAST without inconsistency\n",
    "fields = [\n",
    "    'history', \n",
    "    'findings', \n",
    "    'comparison', \n",
    "    'impression',\n",
    "]\n",
    "foo = df[~df['Past'].isnull() & df['Count'] != 1].sample(frac=1)\n",
    "df_train = foo.iloc[:1240]\n",
    "y_train = np.array(df_train['Past'].astype(int))\n",
    "df_test = foo.iloc[1240:]\n",
    "y_test = np.array(df_test['Past'].astype(int))\n",
    "obj = utils.Df2TFIDF()\n",
    "obj.fit(df_train, fields, ngram=5, min_count=5)\n",
    "output_train = obj.transform(df_train, fields)\n",
    "output_test = obj.transform(df_test, fields)\n",
    "# concatenate sparse matrices of all fields\n",
    "from scipy.sparse import hstack\n",
    "x_train = hstack([foo['bow_tfidf'] for foo in output_train.itervalues()])\n",
    "# TODO (xiao)\n",
    "x_test = hstack([foo['bow_tfidf'] for foo in output_test.itervalues()])\n",
    "print x_train.shape\n",
    "print x_test.shape"
   ]
  },
  {
   "cell_type": "code",
   "execution_count": null,
   "metadata": {},
   "outputs": [],
   "source": [
    "#for PRESENT\n",
    "fields = [\n",
    "    'history', \n",
    "    'findings', \n",
    "    'comparison',\n",
    "    'impression',\n",
    "]\n",
    "#'history', 'impression', 'findings', 'comparison'\n",
    "foo = df[~df['Present'].isnull()].sample(frac=1)\n",
    "foo = foo.loc[foo['Present']!=0, :]\n",
    "df_train = foo.iloc[:1100]\n",
    "y_train = np.array(df_train['Present'].astype(int))\n",
    "df_test = foo.iloc[1100:]\n",
    "y_test = np.array(df_test['Present'].astype(int))\n",
    "obj = utils.Df2TFIDF()\n",
    "obj.fit(df_train, fields, ngram=5, min_count=2)\n",
    "output_train = obj.transform(df_train, fields)\n",
    "output_test = obj.transform(df_test, fields)\n",
    "# concatenate sparse matrices of all fields\n",
    "x_train = hstack([foo['bow_tfidf'] for foo in output_train.itervalues()])\n",
    "x_test = hstack([foo['bow_tfidf'] for foo in output_test.itervalues()])\n",
    "print x_train.shape\n",
    "print x_test.shape"
   ]
  },
  {
   "cell_type": "code",
   "execution_count": null,
   "metadata": {},
   "outputs": [],
   "source": [
    "#for Left Grade\n",
    "fields = ['history', 'findings', 'comparison','impression']\n",
    "foo = df[~df['Left'].isnull() & df['Left'] != 0].sample(frac=1)\n",
    "df_train = foo.iloc[:210]\n",
    "y_train = np.array(df_train['Past'].astype(int))\n",
    "df_test = foo.iloc[210:]\n",
    "y_test = np.array(df_test['Past'].astype(int))\n",
    "obj = utils.Df2TFIDF()\n",
    "obj.fit(df_train, fields, ngram=5, min_count=5)\n",
    "output_train = obj.transform(df_train, fields)\n",
    "output_test = obj.transform(df_test, fields)\n",
    "\n",
    "# concatenate sparse matrices of all fields\n",
    "from scipy.sparse import hstack\n",
    "x_train = hstack([foo['bow_tfidf'] for foo in output_train.itervalues()])\n",
    "# TODO (xiao)\n",
    "x_test = hstack([foo['bow_tfidf'] for foo in output_test.itervalues()])\n",
    "print x_train.shape\n",
    "print x_test.shape"
   ]
  },
  {
   "cell_type": "code",
   "execution_count": null,
   "metadata": {},
   "outputs": [],
   "source": [
    "#for Left Grade\n",
    "fields = ['history', 'findings', 'comparison','impression']\n",
    "foo = df[~df['Right'].isnull() & df['Right'] != 0].sample(frac=1)\n",
    "df_train = foo.iloc[:200]\n",
    "y_train = np.array(df_train['Past'].astype(int))\n",
    "df_test = foo.iloc[200:]\n",
    "y_test = np.array(df_test['Past'].astype(int))\n",
    "obj = utils.Df2TFIDF()\n",
    "obj.fit(df_train, fields, ngram=5, min_count=5)\n",
    "output_train = obj.transform(df_train, fields)\n",
    "output_test = obj.transform(df_test, fields)\n",
    "\n",
    "# concatenate sparse matrices of all fields\n",
    "from scipy.sparse import hstack\n",
    "x_train = hstack([foo['bow_tfidf'] for foo in output_train.itervalues()])\n",
    "# TODO (xiao)\n",
    "x_test = hstack([foo['bow_tfidf'] for foo in output_test.itervalues()])\n",
    "print x_train.shape\n",
    "print x_test.shape"
   ]
  },
  {
   "cell_type": "markdown",
   "metadata": {},
   "source": [
    "### run classifier"
   ]
  },
  {
   "cell_type": "code",
   "execution_count": null,
   "metadata": {},
   "outputs": [],
   "source": [
    "from sklearn.svm import LinearSVC, SVC\n",
    "from sklearn.linear_model import LogisticRegression\n",
    "# svm\n",
    "clf = LinearSVC(C=1, loss='squared_hinge')\n",
    "#clf = SVC()\n",
    "#clf = LogisticRegression(C=3)\n",
    "\n",
    "clf.fit(x_train, y_train)\n",
    "coef = clf.coef_.squeeze()"
   ]
  },
  {
   "cell_type": "code",
   "execution_count": null,
   "metadata": {},
   "outputs": [],
   "source": [
    "y_train_pred = clf.predict(x_train)\n",
    "y_test_pred = clf.predict(x_test)\n",
    "results = pd.concat([utils.my_classification_report(y_train, y_train_pred),\n",
    "                     utils.my_classification_report(y_test, y_test_pred),\n",
    "                     ], axis=1).transpose()\n",
    "results.index = ['training', 'testing']\n",
    "display(results)"
   ]
  },
  {
   "cell_type": "code",
   "execution_count": null,
   "metadata": {},
   "outputs": [],
   "source": [
    "# features with the big weights\n",
    "idx = np.absolute(coef).argsort()[::-1]\n",
    "plt.plot(coef[idx])\n",
    "plt.show()\n",
    "idx2word_agg = pd.Series(obj.idx2word_concat)\n",
    "display(idx2word_agg[idx[:20]])"
   ]
  },
  {
   "cell_type": "code",
   "execution_count": null,
   "metadata": {},
   "outputs": [],
   "source": [
    "# output failed cases.\n",
    "pd.set_option('display.max_colwidth', -1)\n",
    "fields = [\n",
    "    'Past',\n",
    "    'history', \n",
    "    'findings', \n",
    "    'comparison', \n",
    "    'impression'\n",
    "]\n",
    "false_positive = (y_test_pred - y_test) > 0\n",
    "display(df_test.loc[false_positive,fields].applymap(utils.list2str))"
   ]
  },
  {
   "cell_type": "markdown",
   "metadata": {},
   "source": [
    "---\n",
    "# Semi - Supervised Learning"
   ]
  },
  {
   "cell_type": "markdown",
   "metadata": {},
   "source": [
    "## Prepare data"
   ]
  },
  {
   "cell_type": "markdown",
   "metadata": {},
   "source": [
    "### Labeled Data"
   ]
  },
  {
   "cell_type": "code",
   "execution_count": null,
   "metadata": {},
   "outputs": [],
   "source": [
    "filename = 'Data/upto1528.xlsx'\n",
    "df_raw = pd.read_excel(open(filename, 'r'))\n",
    "# get data frame\n",
    "ps = utils.Parser()\n",
    "ps.parser(df_raw)\n",
    "df = ps.df\n",
    "for idx, row in df['findings'].iteritems():\n",
    "    try:\n",
    "        text, velos = utils.parse_findings(row)\n",
    "        df.set_value(idx, 'findings', text)\n",
    "        for n, v in velos:\n",
    "            df.set_value(idx, n, v)\n",
    "    except:\n",
    "        pass\n",
    "discardField = ['Report Text']\n",
    "foo = [item for item in df.columns.tolist() if item not in ordered_names+discardField]\n",
    "foo.sort()\n",
    "CORE_COL = ordered_names + foo\n",
    "df = df[CORE_COL]\n",
    "df_labeled = pd.concat([df_raw[['Past', 'Present', 'Left', 'Right', 'Count']], df[CORE_COL]], axis=1)"
   ]
  },
  {
   "cell_type": "markdown",
   "metadata": {},
   "source": [
    "### Unlabeled Data"
   ]
  },
  {
   "cell_type": "code",
   "execution_count": null,
   "metadata": {},
   "outputs": [],
   "source": [
    "filename = 'Data/2011-2016.xlsx'\n",
    "df_raw = pd.read_excel(open(filename, 'r'))\n",
    "# get data frame\n",
    "ps = utils.Parser()\n",
    "ps.parser(df_raw)\n",
    "df = ps.df\n",
    "for idx, row in df['findings'].iteritems():\n",
    "    try:\n",
    "        text, velos = utils.parse_findings(row)\n",
    "        df.set_value(idx, 'findings', text)\n",
    "        for n, v in velos:\n",
    "            df.set_value(idx, n, v)\n",
    "    except:\n",
    "        pass\n",
    "discardField = ['Report Text']\n",
    "foo = [item for item in df.columns.tolist() if item not in ordered_names+discardField]\n",
    "foo.sort()\n",
    "CORE_COL = ordered_names + foo\n",
    "df_unlabeled = df[CORE_COL]\n",
    "# df = pd.concat([df_raw[['Past', 'Present', 'Left', 'Right', 'Count']], df[CORE_COL]], axis=1)"
   ]
  },
  {
   "cell_type": "markdown",
   "metadata": {},
   "source": [
    "----"
   ]
  },
  {
   "cell_type": "code",
   "execution_count": null,
   "metadata": {},
   "outputs": [],
   "source": [
    "#for PAST\n",
    "fields = [\n",
    "    'history', \n",
    "    'findings', \n",
    "    'comparison', \n",
    "    'impression'\n",
    "]\n",
    "# labeled data\n",
    "df_labeled = utils.null2empty(df_labeled, fields)\n",
    "foo = df_labeled[~df_labeled['Past'].isnull() & df_labeled['Past'] != 0].sample(frac=1, random_state=1)\n",
    "df_train_labeled = foo.iloc[:1220]\n",
    "y_train_labeled = np.array(df_train_labeled['Past'].astype(int))\n",
    "y_train_labeled[y_train_labeled==-1] = 0 # turn -1 to 0\n",
    "df_test = foo.iloc[1220:]\n",
    "y_test = np.array(df_test['Past'].astype(int))\n",
    "y_test[y_test==-1] = 0 # turn -1 to 0\n",
    "obj = utils.Df2TFIDF()\n",
    "obj.fit(df_train_labeled, fields, ngram=5, min_count=5)\n",
    "output_train_labeled = obj.transform(df_train_labeled, fields)\n",
    "output_test = obj.transform(df_test, fields)\n",
    "# concatenate sparse matrices of all fields\n",
    "x_train_labeled = hstack([foo['bow_tfidf'] for foo in output_train_labeled.itervalues()])\n",
    "x_test = hstack([foo['bow_tfidf'] for foo in output_test.itervalues()])\n",
    "print x_train_labeled.shape\n",
    "print x_test.shape\n",
    "# unlabeled data\n",
    "df_unlabeled = utils.null2empty(df_unlabeled, fields)\n",
    "# obj = utils.Df2TFIDF()\n",
    "# obj.fit(df_train_unlabeled, fields, ngram=5, min_count=5)\n",
    "output_train_unlabeled = obj.transform(df_unlabeled, fields)\n",
    "x_train_unlabeled = hstack([foo['bow_tfidf'] for foo in output_train_unlabeled.itervalues()])\n",
    "print x_train_unlabeled.shape"
   ]
  },
  {
   "cell_type": "code",
   "execution_count": null,
   "metadata": {},
   "outputs": [],
   "source": [
    "x_train = vstack([x_train_labeled, x_train_unlabeled])\n",
    "y_train = np.append(y_train_labeled, np.ones(x_train_unlabeled.shape[0], dtype=int) * -1)"
   ]
  },
  {
   "cell_type": "code",
   "execution_count": null,
   "metadata": {},
   "outputs": [],
   "source": [
    "from sklearn.semi_supervised import LabelPropagation\n",
    "semi_clf = LabelPropagation(kernel='rbf', gamma=20, n_jobs=-1)\n",
    "semi_clf.fit(x_train.toarray(), y_train)"
   ]
  },
  {
   "cell_type": "code",
   "execution_count": null,
   "metadata": {},
   "outputs": [],
   "source": [
    "y_train_pred = semi_clf.predict(x_train_labeled.toarray())\n",
    "y_test_pred = semi_clf.predict(x_test.toarray())\n",
    "results = pd.concat([utils.my_classification_report(y_train_labeled, y_train_pred),\n",
    "                     utils.my_classification_report(y_test, y_test_pred),\n",
    "                     ], axis=1).transpose()\n",
    "results.index = ['training', 'testing']\n",
    "display(results)"
   ]
  }
 ],
 "metadata": {
  "kernelspec": {
   "display_name": "Python 3",
   "language": "python",
   "name": "python3"
  },
  "language_info": {
   "codemirror_mode": {
    "name": "ipython",
    "version": 3
   },
   "file_extension": ".py",
   "mimetype": "text/x-python",
   "name": "python",
   "nbconvert_exporter": "python",
   "pygments_lexer": "ipython3",
   "version": "3.6.4"
  }
 },
 "nbformat": 4,
 "nbformat_minor": 1
}
