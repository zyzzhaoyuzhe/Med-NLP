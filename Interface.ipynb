{
 "cells": [
  {
   "cell_type": "code",
   "execution_count": 1,
   "metadata": {
    "collapsed": false,
    "scrolled": false
   },
   "outputs": [
    {
     "name": "stderr",
     "output_type": "stream",
     "text": [
      "/Users/vincent/.virtualenvs/env1/lib/python2.7/site-packages/fuzzywuzzy/fuzz.py:35: UserWarning: Using slow pure-python SequenceMatcher. Install python-Levenshtein to remove this warning\n",
      "  warnings.warn('Using slow pure-python SequenceMatcher. Install python-Levenshtein to remove this warning')\n"
     ]
    }
   ],
   "source": [
    "import itertools\n",
    "import pandas as pd\n",
    "import utils\n",
    "from collections import defaultdict, OrderedDict\n",
    "import numpy as np\n",
    "from IPython.display import display\n",
    "import matplotlib.pyplot as plt\n",
    "from scipy.sparse import hstack"
   ]
  },
  {
   "cell_type": "code",
   "execution_count": 2,
   "metadata": {
    "collapsed": true
   },
   "outputs": [],
   "source": [
    "ordered_names = [u'study',\n",
    "                 u'history',\n",
    "                 u'comparison',\n",
    "                 u'technique',\n",
    "                 u'findings',\n",
    "                 u'impression', \n",
    "                 u'signed by',\n",
    "                 ]"
   ]
  },
  {
   "cell_type": "markdown",
   "metadata": {},
   "source": [
    "--------"
   ]
  },
  {
   "cell_type": "code",
   "execution_count": 3,
   "metadata": {
    "collapsed": true
   },
   "outputs": [],
   "source": [
    "filename = 'Data/upto1528.xlsx'\n",
    "df_raw = pd.read_excel(open(filename, 'r'))"
   ]
  },
  {
   "cell_type": "code",
   "execution_count": 4,
   "metadata": {
    "collapsed": false,
    "scrolled": true
   },
   "outputs": [],
   "source": [
    "# get data frame\n",
    "ps = utils.Parser()\n",
    "ps.parser(df_raw)\n",
    "df = ps.df\n",
    "for idx, row in df['findings'].iteritems():\n",
    "    try:\n",
    "        text, velos = utils.parse_findings(row)\n",
    "        df.set_value(idx, 'findings', text)\n",
    "        for n, v in velos:\n",
    "            df.set_value(idx, n, v)\n",
    "    except:\n",
    "        pass\n",
    "discardField = ['Report Text']\n",
    "foo = [item for item in df.columns.tolist() if item not in ordered_names+discardField]\n",
    "foo.sort()\n",
    "CORE_COL = ordered_names + foo\n",
    "df = df[CORE_COL]\n",
    "df = pd.concat([df_raw[['Past', 'Present', 'Left', 'Right', 'Count']], df[CORE_COL]], axis=1)"
   ]
  },
  {
   "cell_type": "markdown",
   "metadata": {},
   "source": [
    "---------"
   ]
  },
  {
   "cell_type": "markdown",
   "metadata": {},
   "source": [
    "# Classification Model"
   ]
  },
  {
   "cell_type": "markdown",
   "metadata": {},
   "source": [
    "## Use findings and impression to predict present and pass"
   ]
  },
  {
   "cell_type": "code",
   "execution_count": 5,
   "metadata": {
    "collapsed": false
   },
   "outputs": [
    {
     "name": "stdout",
     "output_type": "stream",
     "text": [
      "(1527, 50)\n"
     ]
    },
    {
     "name": "stderr",
     "output_type": "stream",
     "text": [
      "/Users/vincent/.virtualenvs/env1/lib/python2.7/site-packages/pandas/core/indexing.py:141: SettingWithCopyWarning: \n",
      "A value is trying to be set on a copy of a slice from a DataFrame\n",
      "\n",
      "See the caveats in the documentation: http://pandas.pydata.org/pandas-docs/stable/indexing.html#indexing-view-versus-copy\n",
      "  self._setitem_with_indexer(indexer, value)\n"
     ]
    }
   ],
   "source": [
    "# turn null to []\n",
    "df = utils.null2empty(df, ['history', 'impression', 'comparison'])\n",
    "print df.shape"
   ]
  },
  {
   "cell_type": "code",
   "execution_count": 6,
   "metadata": {
    "collapsed": false
   },
   "outputs": [
    {
     "name": "stdout",
     "output_type": "stream",
     "text": [
      "(1220, 11495)\n",
      "(307, 11495)\n"
     ]
    }
   ],
   "source": [
    "#for PAST\n",
    "fields = [\n",
    "    'history', \n",
    "    'findings', \n",
    "    'comparison', \n",
    "    'impression'\n",
    "]\n",
    "foo = df[~df['Past'].isnull() & df['Past'] != 0].sample(frac=1, random_state=1)\n",
    "df_train = foo.iloc[:1220]\n",
    "y_train = np.array(df_train['Past'].astype(int))\n",
    "df_test = foo.iloc[1220:]\n",
    "y_test = np.array(df_test['Past'].astype(int))\n",
    "obj = utils.Df2TFIDF()\n",
    "obj.fit(df_train, fields, ngram=5, min_count=5)\n",
    "output_train = obj.transform(df_train, fields)\n",
    "output_test = obj.transform(df_test, fields)\n",
    "# concatenate sparse matrices of all fields\n",
    "x_train = hstack([foo['bow_tfidf'] for foo in output_train.itervalues()])\n",
    "x_test = hstack([foo['bow_tfidf'] for foo in output_test.itervalues()])\n",
    "print x_train.shape\n",
    "print x_test.shape"
   ]
  },
  {
   "cell_type": "code",
   "execution_count": null,
   "metadata": {
    "collapsed": false
   },
   "outputs": [],
   "source": [
    "#for PAST without inconsistency\n",
    "fields = [\n",
    "    'history', \n",
    "    'findings', \n",
    "    'comparison', \n",
    "    'impression',\n",
    "]\n",
    "foo = df[~df['Past'].isnull() & df['Count'] != 1].sample(frac=1)\n",
    "df_train = foo.iloc[:1240]\n",
    "y_train = np.array(df_train['Past'].astype(int))\n",
    "df_test = foo.iloc[1240:]\n",
    "y_test = np.array(df_test['Past'].astype(int))\n",
    "obj = utils.Df2TFIDF()\n",
    "obj.fit(df_train, fields, ngram=5, min_count=5)\n",
    "output_train = obj.transform(df_train, fields)\n",
    "output_test = obj.transform(df_test, fields)\n",
    "# concatenate sparse matrices of all fields\n",
    "from scipy.sparse import hstack\n",
    "x_train = hstack([foo['bow_tfidf'] for foo in output_train.itervalues()])\n",
    "# TODO (xiao)\n",
    "x_test = hstack([foo['bow_tfidf'] for foo in output_test.itervalues()])\n",
    "print x_train.shape\n",
    "print x_test.shape"
   ]
  },
  {
   "cell_type": "code",
   "execution_count": null,
   "metadata": {
    "collapsed": false
   },
   "outputs": [],
   "source": [
    "#for PRESENT\n",
    "fields = [\n",
    "    'history', \n",
    "    'findings', \n",
    "    'comparison',\n",
    "    'impression',\n",
    "]\n",
    "#'history', 'impression', 'findings', 'comparison'\n",
    "foo = df[~df['Present'].isnull()].sample(frac=1)\n",
    "foo = foo.loc[foo['Present']!=0, :]\n",
    "df_train = foo.iloc[:1100]\n",
    "y_train = np.array(df_train['Present'].astype(int))\n",
    "df_test = foo.iloc[1100:]\n",
    "y_test = np.array(df_test['Present'].astype(int))\n",
    "obj = utils.Df2TFIDF()\n",
    "obj.fit(df_train, fields, ngram=5, min_count=2)\n",
    "output_train = obj.transform(df_train, fields)\n",
    "output_test = obj.transform(df_test, fields)\n",
    "# concatenate sparse matrices of all fields\n",
    "x_train = hstack([foo['bow_tfidf'] for foo in output_train.itervalues()])\n",
    "x_test = hstack([foo['bow_tfidf'] for foo in output_test.itervalues()])\n",
    "print x_train.shape\n",
    "print x_test.shape"
   ]
  },
  {
   "cell_type": "code",
   "execution_count": null,
   "metadata": {
    "collapsed": false
   },
   "outputs": [],
   "source": [
    "#for Left Grade\n",
    "fields = ['history', 'findings', 'comparison','impression']\n",
    "foo = df[~df['Left'].isnull() & df['Left'] != 0].sample(frac=1)\n",
    "df_train = foo.iloc[:210]\n",
    "y_train = np.array(df_train['Past'].astype(int))\n",
    "df_test = foo.iloc[210:]\n",
    "y_test = np.array(df_test['Past'].astype(int))\n",
    "obj = utils.Df2TFIDF()\n",
    "obj.fit(df_train, fields, ngram=5, min_count=5)\n",
    "output_train = obj.transform(df_train, fields)\n",
    "output_test = obj.transform(df_test, fields)\n",
    "\n",
    "# concatenate sparse matrices of all fields\n",
    "from scipy.sparse import hstack\n",
    "x_train = hstack([foo['bow_tfidf'] for foo in output_train.itervalues()])\n",
    "# TODO (xiao)\n",
    "x_test = hstack([foo['bow_tfidf'] for foo in output_test.itervalues()])\n",
    "print x_train.shape\n",
    "print x_test.shape"
   ]
  },
  {
   "cell_type": "code",
   "execution_count": null,
   "metadata": {
    "collapsed": false
   },
   "outputs": [],
   "source": [
    "#for Left Grade\n",
    "fields = ['history', 'findings', 'comparison','impression']\n",
    "foo = df[~df['Right'].isnull() & df['Right'] != 0].sample(frac=1)\n",
    "df_train = foo.iloc[:200]\n",
    "y_train = np.array(df_train['Past'].astype(int))\n",
    "df_test = foo.iloc[200:]\n",
    "y_test = np.array(df_test['Past'].astype(int))\n",
    "obj = utils.Df2TFIDF()\n",
    "obj.fit(df_train, fields, ngram=5, min_count=5)\n",
    "output_train = obj.transform(df_train, fields)\n",
    "output_test = obj.transform(df_test, fields)\n",
    "\n",
    "# concatenate sparse matrices of all fields\n",
    "from scipy.sparse import hstack\n",
    "x_train = hstack([foo['bow_tfidf'] for foo in output_train.itervalues()])\n",
    "# TODO (xiao)\n",
    "x_test = hstack([foo['bow_tfidf'] for foo in output_test.itervalues()])\n",
    "print x_train.shape\n",
    "print x_test.shape"
   ]
  },
  {
   "cell_type": "markdown",
   "metadata": {},
   "source": [
    "### run classifier"
   ]
  },
  {
   "cell_type": "code",
   "execution_count": 7,
   "metadata": {
    "collapsed": false
   },
   "outputs": [],
   "source": [
    "from sklearn.svm import LinearSVC, SVC\n",
    "from sklearn.linear_model import LogisticRegression\n",
    "# svm\n",
    "clf = LinearSVC(C=1, loss='squared_hinge')\n",
    "#clf = SVC()\n",
    "#clf = LogisticRegression(C=3)\n",
    "\n",
    "clf.fit(x_train, y_train)\n",
    "coef = clf.coef_.squeeze()"
   ]
  },
  {
   "cell_type": "code",
   "execution_count": 17,
   "metadata": {
    "collapsed": false
   },
   "outputs": [
    {
     "data": {
      "text/html": [
       "<div>\n",
       "<table border=\"1\" class=\"dataframe\">\n",
       "  <thead>\n",
       "    <tr style=\"text-align: right;\">\n",
       "      <th></th>\n",
       "      <th>NPV</th>\n",
       "      <th>accuracy</th>\n",
       "      <th>precision</th>\n",
       "      <th>sensitivity</th>\n",
       "      <th>specificity</th>\n",
       "    </tr>\n",
       "  </thead>\n",
       "  <tbody>\n",
       "    <tr>\n",
       "      <th>training</th>\n",
       "      <td>0.995708</td>\n",
       "      <td>0.996721</td>\n",
       "      <td>1.000000</td>\n",
       "      <td>0.986301</td>\n",
       "      <td>1.000000</td>\n",
       "    </tr>\n",
       "    <tr>\n",
       "      <th>testing</th>\n",
       "      <td>0.957983</td>\n",
       "      <td>0.915309</td>\n",
       "      <td>0.768116</td>\n",
       "      <td>0.841270</td>\n",
       "      <td>0.934426</td>\n",
       "    </tr>\n",
       "  </tbody>\n",
       "</table>\n",
       "</div>"
      ],
      "text/plain": [
       "               NPV  accuracy  precision  sensitivity  specificity\n",
       "training  0.995708  0.996721   1.000000     0.986301     1.000000\n",
       "testing   0.957983  0.915309   0.768116     0.841270     0.934426"
      ]
     },
     "metadata": {},
     "output_type": "display_data"
    }
   ],
   "source": [
    "y_train_pred = clf.predict(x_train)\n",
    "y_test_pred = clf.predict(x_test)\n",
    "results = pd.concat([utils.my_classification_report(y_train, y_train_pred),\n",
    "                     utils.my_classification_report(y_test, y_test_pred),\n",
    "                     ], axis=1).transpose()\n",
    "results.index = ['training', 'testing']\n",
    "display(results)"
   ]
  },
  {
   "cell_type": "code",
   "execution_count": 9,
   "metadata": {
    "collapsed": false
   },
   "outputs": [
    {
     "data": {
      "image/png": "[encoded data removed]",
      "text/plain": [
       "<matplotlib.figure.Figure at 0x1129e0bd0>"
      ]
     },
     "metadata": {},
     "output_type": "display_data"
    },
    {
     "data": {
      "text/plain": [
       "10242                                  a stenosis at the\n",
       "10248               distal right internal carotid artery\n",
       "10389                                    plaque analysis\n",
       "10824             of radiologist in ultrasound consensus\n",
       "10944                                      c buchanan md\n",
       "2962                                of the left internal\n",
       "11135                        compared to the prior study\n",
       "10867                              reported by krystal c\n",
       "11103                 significant stenosis identified in\n",
       "10203                                          of plaque\n",
       "15                                            distal ica\n",
       "10947                                  is similar to the\n",
       "10837                        criteria no hemodynamically\n",
       "10400                                             burden\n",
       "10235                                           possible\n",
       "10993                            carotid artery findings\n",
       "10383                                 plaque analysis of\n",
       "10199                     by the society of radiologists\n",
       "1530                follows the peak systolic velocities\n",
       "11334    without hemodynamically significant stenosis on\n",
       "dtype: object"
      ]
     },
     "metadata": {},
     "output_type": "display_data"
    }
   ],
   "source": [
    "# features with the big weights\n",
    "idx = np.absolute(coef).argsort()[::-1]\n",
    "plt.plot(coef[idx])\n",
    "plt.show()\n",
    "idx2word_agg = pd.Series(obj.idx2word_concat)\n",
    "display(idx2word_agg[idx[:20]])"
   ]
  },
  {
   "cell_type": "code",
   "execution_count": 18,
   "metadata": {
    "collapsed": false
   },
   "outputs": [
    {
     "data": {
      "text/html": [
       "<div>\n",
       "<table border=\"1\" class=\"dataframe\">\n",
       "  <thead>\n",
       "    <tr style=\"text-align: right;\">\n",
       "      <th></th>\n",
       "      <th>Past</th>\n",
       "      <th>history</th>\n",
       "      <th>findings</th>\n",
       "      <th>comparison</th>\n",
       "      <th>impression</th>\n",
       "    </tr>\n",
       "  </thead>\n",
       "  <tbody>\n",
       "    <tr>\n",
       "      <th>1286</th>\n",
       "      <td>-1</td>\n",
       "      <td>stenosis of carotid artery, unspecified laterality.</td>\n",
       "      <td>there is scattered atherosclerotic disease in the bifurcation regions bilaterally.  both carotid systems demonstrate normal waveforms with brisk systolic upstrokes. the velocities on the right are as follows: the velocities on the left are as follows: antegrade flow identified in the right vertebral artery. left vertebral artery was not able to be identified except at its origin.</td>\n",
       "      <td></td>\n",
       "      <td>scattered atherosclerotic plaque without evidence of hemodynamically significant stenosis. nonvisualization of left vertebral artery which may be secondary to occlusion or hypoplasia.. analysis of internal carotid stenosis is based on duplex doppler velocity parameters that correlate with the calculation of an internal carotid artery stenosis according to the nascet criteria.</td>\n",
       "    </tr>\n",
       "    <tr>\n",
       "      <th>1191</th>\n",
       "      <td>-1</td>\n",
       "      <td>dizziness</td>\n",
       "      <td>calcified plaque is noted that the right carotid bifurcation. associated elevated peak systolic velocities are seen at this level compatible with significant stenosis. normal peak systolic velocities and waveforms are seen in the left carotid system. right carotid velocities: ---------------------------------------------------------------- left carotid velocities: ---------------------------------------------------------------- vertebral arteries: both vertebral arteries demonstrate antegrade flow.</td>\n",
       "      <td>5/13/2013</td>\n",
       "      <td>slight increase in the peak systolic velocities in the right proximal ica when compared to prior examination, findings are compatible with 50-69% stenosis. analysis of internal carotid stenosis is based on duplex doppler velocity parameters that correlate with the calculation of an internal carotid artery stenosis according to the nascet criteria.</td>\n",
       "    </tr>\n",
       "    <tr>\n",
       "      <th>444</th>\n",
       "      <td>-1</td>\n",
       "      <td>dizziness. known stenoses in intracranial vessels.</td>\n",
       "      <td>there is minimal plaque/intimal thickening the bifurcation regions, most prominent in the left bulb.  both carotid systems demonstrate normal waveforms with brisk systolic upstrokes. the velocities on the right are as follows: the velocities on the left are as follows: both vertebral arteries demonstrate antegrade flow.</td>\n",
       "      <td>cta, 3/18/2016.</td>\n",
       "      <td>no evidence of hemodynamically significant stenosis. no interval change noted since prior cta performed 6 days earlier. analysis of internal carotid stenosis is based on duplex doppler velocity parameters that correlate with the calculation of an internal carotid artery stenosis according to the nascet criteria.</td>\n",
       "    </tr>\n",
       "    <tr>\n",
       "      <th>1056</th>\n",
       "      <td>-1</td>\n",
       "      <td>dysarthria, ocular migraines; history of carotid stenosis</td>\n",
       "      <td>there is evidence of mild atherosclerotic disease with mild tortuosity of the carotid arteries.  both carotid systems demonstrate brisk systolic upstrokes. noncalcified plaque is seen within the right distal common carotid artery, bilateral carotid bulbs, and throughout the left internal carotid artery. right carotid velocities: ---------------------------------------------------------------- left carotid velocities: ---------------------------------------------------------------- vertebral arteries: both vertebral arteries demonstrate antegrade flow.</td>\n",
       "      <td>carotid duplex ultrasound dated 3/15/2012</td>\n",
       "      <td>no hemodynamically significant stenosis in either carotid artery. areas of noncalcified plaque bilaterally as described. analysis of internal carotid stenosis is based on duplex doppler velocity parameters that correlate with the calculation of an internal carotid artery stenosis according to the nascet criteria.</td>\n",
       "    </tr>\n",
       "    <tr>\n",
       "      <th>1258</th>\n",
       "      <td>-1</td>\n",
       "      <td>stroke/tia. cc ratio: 1.5 left: cca: 72.1 proximal ica: 370.1 middle ica: 213.2 distal ica: 112.4 cc ratio: 5.1 both vertebral arteries demonstrate antegrade flow. ... the percentage of carotid stenosis has been calculated utilizing doppler parameters established by the sonographic nascet (north american symptomatic carotid endarterectomy trial) index. ...</td>\n",
       "      <td>there is intimal thickening with calcified plaque formation at the origin of the internal carotid arteries, left greater than right. the following peak systolic velocity measurements were obtained in cm/s: right:</td>\n",
       "      <td>comparison is made to 6/22/16 and 10/6/2015</td>\n",
       "      <td>atherosclerosis with a severe (80-99%) stenosis of the left internal carotid artery and a moderate to severe (60-79 %) stenosis of the right internal carotid artery.</td>\n",
       "    </tr>\n",
       "    <tr>\n",
       "      <th>21</th>\n",
       "      <td>-1</td>\n",
       "      <td>lt carotid stenosis ?.</td>\n",
       "      <td>there is scattered atherosclerotic disease throughout both carotid arterial systems. the waveforms are normal with brisk systolic upstrokes. the velocities on the right are as follows: the velocities on the left are as follows: the right vertebral artery demonstrates no flow, consistent with the known occlusion present on the most recent mra of the neck. the left vertebral artery demonstrates appropriate antegrade flow.</td>\n",
       "      <td>mra neck 1/4/2016.</td>\n",
       "      <td>there is no hemodynamically significant stenosis in either carotid artery. stable occlusion of the right vertebral artery. analysis of internal carotid stenosis is based on duplex doppler velocity parameters that correlate with the calculation of an internal carotid artery stenosis according to the nascet criteria.</td>\n",
       "    </tr>\n",
       "    <tr>\n",
       "      <th>450</th>\n",
       "      <td>-1</td>\n",
       "      <td>carotid stenosis.</td>\n",
       "      <td>mild atherosclerotic plaque seen throughout the carotid systems bilaterally.  both carotid systems demonstrate normal waveforms with brisk systolic upstrokes. no evidence of stenosis on color doppler. the peak systolic velocities on the right are as follows: the peak systolic velocities on the left are as follows: both vertebral arteries demonstrate antegrade flow.</td>\n",
       "      <td>carotid ultrasound from outside hospital 2/21/2007.</td>\n",
       "      <td>1. elevated velocity in the left distal internal carotid artery, nonspecific given that the vessel appears to be normal in caliber and there is no aliasing is seen and no other secondary signs of stenosis. 2. no hemodynamically significant stenosis is detected in the right carotid system. analysis of internal carotid stenosis is based on duplex doppler velocity parameters to correlate with nascet criteria.</td>\n",
       "    </tr>\n",
       "    <tr>\n",
       "      <th>1019</th>\n",
       "      <td>-1</td>\n",
       "      <td>transient cerebral ischemia, unspecified transient cerebral ischemia type. slurred speech. weakness.</td>\n",
       "      <td>there is heterogeneous, echogenic plaque in the right bulb. hypoechoic soft plaque is noted in the left proximal ica. heterogeneous plaque is identified in the left distal cca.  both carotid systems demonstrate normal waveforms with brisk systolic upstrokes. the velocities on the right are as follows: bulb: 127 cm/s the velocities on the left are as follows: both vertebral arteries demonstrate antegrade flow.</td>\n",
       "      <td></td>\n",
       "      <td>1. findings consistent with 50-69% stenosis in the right carotid bulb. 2. findings consistent with greater than 70% stenosis in the left proximal/mid ica. analysis of internal carotid stenosis is based on duplex doppler velocity parameters that correlate with the calculation of an internal carotid artery stenosis according to the nascet criteria.</td>\n",
       "    </tr>\n",
       "    <tr>\n",
       "      <th>269</th>\n",
       "      <td>-1</td>\n",
       "      <td>unexplained falls - carotid stenosis?.</td>\n",
       "      <td>there is mild intimal thickening within the common carotid arteries bilaterally. elongated calcified plaques are seen within the carotid bifurcation bilaterally. color flow imaging demonstrates no areas of turbulence. peak systolic velocities (in centimeters per second) are as follows: right eca: 62 left eca: 82 the vertebral arteries demonstrate antegrade flow bilaterally</td>\n",
       "      <td></td>\n",
       "      <td>there is moderate to heavy atherosclerotic disease at the carotid bifurcations. there is no hemodynamically significant stenosis.</td>\n",
       "    </tr>\n",
       "    <tr>\n",
       "      <th>569</th>\n",
       "      <td>-1</td>\n",
       "      <td>history of carotid stenosis; follow-up left carotid artery injury and patch angioplasty.</td>\n",
       "      <td>there is redemonstration of minimal plaque identified in the visualized portions of the common carotid and internal carotid arteries. the left carotid system demonstrates normal waveforms and brisk systolic upstrokes. the velocities on the left are as follows: the left vertebral artery demonstrates antegrade flow.</td>\n",
       "      <td>prior ultrasound dated 10/29/2015.</td>\n",
       "      <td>no evidence of hemodynamically significant stenosis involving the left carotid system. analysis is based on grayscale and velocity measurements which have been correlated with the nascet criteria for measuring internal carotid artery stenosis.</td>\n",
       "    </tr>\n",
       "    <tr>\n",
       "      <th>1476</th>\n",
       "      <td>-1</td>\n",
       "      <td>carotid stenosis</td>\n",
       "      <td>grayscale, spectral and color doppler were performed. comparison is made to 9/19/2014. velocities are in cm/sec. right bulb48 eca                    83 vertebral            antegrade subclavian 169 left bulb37 eca                     76 vertebral             retrograde subclavian 270 by doppler only. turbulence is noted there. grayscale views are limited. there is moderate plaque burden at both bifurcations.</td>\n",
       "      <td></td>\n",
       "      <td>1. no evidence of hemodynamically significant internal carotid artery stenosis. 2. reversal of the normal direction of flow in the left vertebral artery and elevated velocity and turbulence in the subclavian artery medial to this, consistent with subclavian steal physiology, as on the prior study. note: in those cases where stenosis is present, the estimates are intended to correlate with the angiographic nascet criteria.</td>\n",
       "    </tr>\n",
       "    <tr>\n",
       "      <th>513</th>\n",
       "      <td>-1</td>\n",
       "      <td>history of carotid disease.</td>\n",
       "      <td>the distal internal carotid arteries are again noted to be tortuous. no significant atherosclerotic plaques are noted. both carotid systems demonstrate normal waveforms with brisk systolic upstrokes. no evidence of stenosis on color doppler. the peak systolic velocities on the right are as follows: the peak systolic velocities on the left are as follows: both vertebral arteries demonstrate antegrade flow.</td>\n",
       "      <td>carotid doppler ultrasound of 6/18/2010 and multiple prior studies.</td>\n",
       "      <td>no evidence of hemodynamically significant stenosis. analysis of internal carotid stenosis is based on duplex doppler velocity parameters to correlate with nascet criteria.</td>\n",
       "    </tr>\n",
       "    <tr>\n",
       "      <th>1001</th>\n",
       "      <td>-1</td>\n",
       "      <td>evaluate for hemodynamically significant stenosis, heard bruit in r carotid artery on examination. cc ratio: 3.7 left: cca: 78.9 proximal ica: 72.4 middle ica: 56.5 distal ica: 68.9 cc ratio: 0.9 both vertebral arteries demonstrate antegrade flow. ... the percentage of carotid stenosis has been calculated utilizing doppler parameters established by the sonographic nascet (north american symptomatic carotid endarterectomy trial) index. ...</td>\n",
       "      <td>there is heavy calcified plaque formation at the origin of the right internal carotid artery. milder plaque is seen on the left. the following peak systolic velocity measurements were obtained in cm/s: right:</td>\n",
       "      <td>4/10/2014</td>\n",
       "      <td>findings compatible with a severe (80-99%) stenosis of the right internal carotid artery. no hemodynamically significant stenosis on the left.</td>\n",
       "    </tr>\n",
       "    <tr>\n",
       "      <th>580</th>\n",
       "      <td>-1</td>\n",
       "      <td>six-month status post left carotid artery stenting.</td>\n",
       "      <td>on the left: plaque is seen within the proximal common carotid artery carotid bulb and proximal internal carotid artery. peak systolic velocities on the left: left vertebral artery: normal cephalad flow.</td>\n",
       "      <td>ultrasound of the carotid arteries on 11/23/2015.</td>\n",
       "      <td>no sonographic evidence of hemodynamically significant narrowing. however, mild waisting within the mid stent at the carotid bulb remains. analysis of internal carotid stenosis is based on duplex doppler velocity parameters to correlate with nascet criteria.</td>\n",
       "    </tr>\n",
       "    <tr>\n",
       "      <th>914</th>\n",
       "      <td>-1</td>\n",
       "      <td>faint bruit in left carotid artery. us of carotids please.</td>\n",
       "      <td>grayscale, color doppler and pulsed doppler data were obtained. calcified atherosclerotic plaques are again noted scattered diffusely throughout both carotid systems with soft plaque seen within the distal common carotid arteries bilaterally as well. plaque burden is more noted in the carotid bulb regions and extending into the proximal internal and external carotid arteries, on the right greater than left. analysis of internal carotid stenosis is based on the nascet criteria.</td>\n",
       "      <td>8/20/2014.</td>\n",
       "      <td>diffusely scattered atherosclerotic plaques throughout both carotid systems resulting in approximately 50% stenosis in the proximal right internal carotid artery and less than 50% stenosis in the left internal carotid artery.</td>\n",
       "    </tr>\n",
       "    <tr>\n",
       "      <th>905</th>\n",
       "      <td>-1</td>\n",
       "      <td>peripheral vacular disease, s/p frequetn falls, dizziness</td>\n",
       "      <td>calcified plaques are noted in the right internal carotid artery proximally as well as the left carotid bulb.  both carotid systems demonstrate normal waveforms with brisk systolic upstrokes. right carotid velocities: ---------------------------------------------------------------- left carotid velocities: ---------------------------------------------------------------- vertebral arteries: both vertebral arteries demonstrate antegrade flow.</td>\n",
       "      <td></td>\n",
       "      <td>there is no hemodynamically significant stenosis in either carotid artery. analysis of internal carotid stenosis is based on duplex doppler velocity parameters that correlate with the calculation of an internal carotid artery stenosis according to the nascet criteria.</td>\n",
       "    </tr>\n",
       "  </tbody>\n",
       "</table>\n",
       "</div>"
      ],
      "text/plain": [
       "      Past  \\\n",
       "1286 -1      \n",
       "1191 -1      \n",
       "444  -1      \n",
       "1056 -1      \n",
       "1258 -1      \n",
       "21   -1      \n",
       "450  -1      \n",
       "1019 -1      \n",
       "269  -1      \n",
       "569  -1      \n",
       "1476 -1      \n",
       "513  -1      \n",
       "1001 -1      \n",
       "580  -1      \n",
       "914  -1      \n",
       "905  -1      \n",
       "\n",
       "                                                                                                                                                                                                                                                                                                                                                                                                                                                          history  \\\n",
       "1286   stenosis of carotid artery, unspecified laterality.                                                                                                                                                                                                                                                                                                                                                                                                          \n",
       "1191     dizziness                                                                                                                                                                                                                                                                                                                                                                                                                                                  \n",
       "444    dizziness. known stenoses in intracranial vessels.                                                                                                                                                                                                                                                                                                                                                                                                           \n",
       "1056    dysarthria, ocular migraines; history of carotid stenosis                                                                                                                                                                                                                                                                                                                                                                                                   \n",
       "1258   stroke/tia. cc ratio: 1.5 left: cca: 72.1 proximal ica: 370.1 middle ica: 213.2 distal ica: 112.4 cc ratio: 5.1 both vertebral arteries demonstrate antegrade flow. ... the percentage of carotid stenosis has been calculated utilizing doppler parameters established by the sonographic nascet (north american symptomatic carotid endarterectomy trial) index. ...                                                                                       \n",
       "21     lt carotid stenosis ?.                                                                                                                                                                                                                                                                                                                                                                                                                                       \n",
       "450    carotid stenosis.                                                                                                                                                                                                                                                                                                                                                                                                                                            \n",
       "1019   transient cerebral ischemia, unspecified transient cerebral ischemia type. slurred speech. weakness.                                                                                                                                                                                                                                                                                                                                                         \n",
       "269    unexplained falls - carotid stenosis?.                                                                                                                                                                                                                                                                                                                                                                                                                       \n",
       "569     history of carotid stenosis; follow-up left carotid artery injury and patch angioplasty.                                                                                                                                                                                                                                                                                                                                                                    \n",
       "1476   carotid stenosis                                                                                                                                                                                                                                                                                                                                                                                                                                             \n",
       "513    history of carotid disease.                                                                                                                                                                                                                                                                                                                                                                                                                                  \n",
       "1001   evaluate for hemodynamically significant stenosis, heard bruit in r carotid artery on examination. cc ratio: 3.7 left: cca: 78.9 proximal ica: 72.4 middle ica: 56.5 distal ica: 68.9 cc ratio: 0.9 both vertebral arteries demonstrate antegrade flow. ... the percentage of carotid stenosis has been calculated utilizing doppler parameters established by the sonographic nascet (north american symptomatic carotid endarterectomy trial) index. ...   \n",
       "580    six-month status post left carotid artery stenting.                                                                                                                                                                                                                                                                                                                                                                                                          \n",
       "914    faint bruit in left carotid artery. us of carotids please.                                                                                                                                                                                                                                                                                                                                                                                                   \n",
       "905      peripheral vacular disease, s/p frequetn falls, dizziness                                                                                                                                                                                                                                                                                                                                                                                                  \n",
       "\n",
       "                                                                                                                                                                                                                                                                                                                                                                                                                                                                                                                                                                           findings  \\\n",
       "1286  there is scattered atherosclerotic disease in the bifurcation regions bilaterally.  both carotid systems demonstrate normal waveforms with brisk systolic upstrokes. the velocities on the right are as follows: the velocities on the left are as follows: antegrade flow identified in the right vertebral artery. left vertebral artery was not able to be identified except at its origin.                                                                                                                                                                                  \n",
       "1191  calcified plaque is noted that the right carotid bifurcation. associated elevated peak systolic velocities are seen at this level compatible with significant stenosis. normal peak systolic velocities and waveforms are seen in the left carotid system. right carotid velocities: ---------------------------------------------------------------- left carotid velocities: ---------------------------------------------------------------- vertebral arteries: both vertebral arteries demonstrate antegrade flow.                                                         \n",
       "444   there is minimal plaque/intimal thickening the bifurcation regions, most prominent in the left bulb.  both carotid systems demonstrate normal waveforms with brisk systolic upstrokes. the velocities on the right are as follows: the velocities on the left are as follows: both vertebral arteries demonstrate antegrade flow.                                                                                                                                                                                                                                               \n",
       "1056  there is evidence of mild atherosclerotic disease with mild tortuosity of the carotid arteries.  both carotid systems demonstrate brisk systolic upstrokes. noncalcified plaque is seen within the right distal common carotid artery, bilateral carotid bulbs, and throughout the left internal carotid artery. right carotid velocities: ---------------------------------------------------------------- left carotid velocities: ---------------------------------------------------------------- vertebral arteries: both vertebral arteries demonstrate antegrade flow.   \n",
       "1258  there is intimal thickening with calcified plaque formation at the origin of the internal carotid arteries, left greater than right. the following peak systolic velocity measurements were obtained in cm/s: right:                                                                                                                                                                                                                                                                                                                                                            \n",
       "21    there is scattered atherosclerotic disease throughout both carotid arterial systems. the waveforms are normal with brisk systolic upstrokes. the velocities on the right are as follows: the velocities on the left are as follows: the right vertebral artery demonstrates no flow, consistent with the known occlusion present on the most recent mra of the neck. the left vertebral artery demonstrates appropriate antegrade flow.                                                                                                                                         \n",
       "450   mild atherosclerotic plaque seen throughout the carotid systems bilaterally.  both carotid systems demonstrate normal waveforms with brisk systolic upstrokes. no evidence of stenosis on color doppler. the peak systolic velocities on the right are as follows: the peak systolic velocities on the left are as follows: both vertebral arteries demonstrate antegrade flow.                                                                                                                                                                                                 \n",
       "1019  there is heterogeneous, echogenic plaque in the right bulb. hypoechoic soft plaque is noted in the left proximal ica. heterogeneous plaque is identified in the left distal cca.  both carotid systems demonstrate normal waveforms with brisk systolic upstrokes. the velocities on the right are as follows: bulb: 127 cm/s the velocities on the left are as follows: both vertebral arteries demonstrate antegrade flow.                                                                                                                                                    \n",
       "269    there is mild intimal thickening within the common carotid arteries bilaterally. elongated calcified plaques are seen within the carotid bifurcation bilaterally. color flow imaging demonstrates no areas of turbulence. peak systolic velocities (in centimeters per second) are as follows: right eca: 62 left eca: 82 the vertebral arteries demonstrate antegrade flow bilaterally                                                                                                                                                                                        \n",
       "569   there is redemonstration of minimal plaque identified in the visualized portions of the common carotid and internal carotid arteries. the left carotid system demonstrates normal waveforms and brisk systolic upstrokes. the velocities on the left are as follows: the left vertebral artery demonstrates antegrade flow.                                                                                                                                                                                                                                                     \n",
       "1476   grayscale, spectral and color doppler were performed. comparison is made to 9/19/2014. velocities are in cm/sec. right bulb48 eca                    83 vertebral            antegrade subclavian 169 left bulb37 eca                     76 vertebral             retrograde subclavian 270 by doppler only. turbulence is noted there. grayscale views are limited. there is moderate plaque burden at both bifurcations.                                                                                                                                                    \n",
       "513   the distal internal carotid arteries are again noted to be tortuous. no significant atherosclerotic plaques are noted. both carotid systems demonstrate normal waveforms with brisk systolic upstrokes. no evidence of stenosis on color doppler. the peak systolic velocities on the right are as follows: the peak systolic velocities on the left are as follows: both vertebral arteries demonstrate antegrade flow.                                                                                                                                                        \n",
       "1001  there is heavy calcified plaque formation at the origin of the right internal carotid artery. milder plaque is seen on the left. the following peak systolic velocity measurements were obtained in cm/s: right:                                                                                                                                                                                                                                                                                                                                                                \n",
       "580   on the left: plaque is seen within the proximal common carotid artery carotid bulb and proximal internal carotid artery. peak systolic velocities on the left: left vertebral artery: normal cephalad flow.                                                                                                                                                                                                                                                                                                                                                                     \n",
       "914   grayscale, color doppler and pulsed doppler data were obtained. calcified atherosclerotic plaques are again noted scattered diffusely throughout both carotid systems with soft plaque seen within the distal common carotid arteries bilaterally as well. plaque burden is more noted in the carotid bulb regions and extending into the proximal internal and external carotid arteries, on the right greater than left. analysis of internal carotid stenosis is based on the nascet criteria.                                                                               \n",
       "905   calcified plaques are noted in the right internal carotid artery proximally as well as the left carotid bulb.  both carotid systems demonstrate normal waveforms with brisk systolic upstrokes. right carotid velocities: ---------------------------------------------------------------- left carotid velocities: ---------------------------------------------------------------- vertebral arteries: both vertebral arteries demonstrate antegrade flow.                                                                                                                    \n",
       "\n",
       "                                                                comparison  \\\n",
       "1286                                                                         \n",
       "1191   5/13/2013                                                             \n",
       "444    cta, 3/18/2016.                                                       \n",
       "1056   carotid duplex ultrasound dated 3/15/2012                             \n",
       "1258   comparison is made to 6/22/16 and 10/6/2015                           \n",
       "21     mra neck 1/4/2016.                                                    \n",
       "450    carotid ultrasound from outside hospital 2/21/2007.                   \n",
       "1019                                                                         \n",
       "269                                                                          \n",
       "569    prior ultrasound dated 10/29/2015.                                    \n",
       "1476                                                                         \n",
       "513    carotid doppler ultrasound of 6/18/2010 and multiple prior studies.   \n",
       "1001   4/10/2014                                                             \n",
       "580    ultrasound of the carotid arteries on 11/23/2015.                     \n",
       "914    8/20/2014.                                                            \n",
       "905                                                                          \n",
       "\n",
       "                                                                                                                                                                                                                                                                                                                                                                                                                                     impression  \n",
       "1286  scattered atherosclerotic plaque without evidence of hemodynamically significant stenosis. nonvisualization of left vertebral artery which may be secondary to occlusion or hypoplasia.. analysis of internal carotid stenosis is based on duplex doppler velocity parameters that correlate with the calculation of an internal carotid artery stenosis according to the nascet criteria.                                                 \n",
       "1191  slight increase in the peak systolic velocities in the right proximal ica when compared to prior examination, findings are compatible with 50-69% stenosis. analysis of internal carotid stenosis is based on duplex doppler velocity parameters that correlate with the calculation of an internal carotid artery stenosis according to the nascet criteria.                                                                              \n",
       "444   no evidence of hemodynamically significant stenosis. no interval change noted since prior cta performed 6 days earlier. analysis of internal carotid stenosis is based on duplex doppler velocity parameters that correlate with the calculation of an internal carotid artery stenosis according to the nascet criteria.                                                                                                                  \n",
       "1056  no hemodynamically significant stenosis in either carotid artery. areas of noncalcified plaque bilaterally as described. analysis of internal carotid stenosis is based on duplex doppler velocity parameters that correlate with the calculation of an internal carotid artery stenosis according to the nascet criteria.                                                                                                                 \n",
       "1258    atherosclerosis with a severe (80-99%) stenosis of the left internal carotid artery and a moderate to severe (60-79 %) stenosis of the right internal carotid artery.                                                                                                                                                                                                                                                                    \n",
       "21    there is no hemodynamically significant stenosis in either carotid artery. stable occlusion of the right vertebral artery. analysis of internal carotid stenosis is based on duplex doppler velocity parameters that correlate with the calculation of an internal carotid artery stenosis according to the nascet criteria.                                                                                                               \n",
       "450   1. elevated velocity in the left distal internal carotid artery, nonspecific given that the vessel appears to be normal in caliber and there is no aliasing is seen and no other secondary signs of stenosis. 2. no hemodynamically significant stenosis is detected in the right carotid system. analysis of internal carotid stenosis is based on duplex doppler velocity parameters to correlate with nascet criteria.                  \n",
       "1019  1. findings consistent with 50-69% stenosis in the right carotid bulb. 2. findings consistent with greater than 70% stenosis in the left proximal/mid ica. analysis of internal carotid stenosis is based on duplex doppler velocity parameters that correlate with the calculation of an internal carotid artery stenosis according to the nascet criteria.                                                                               \n",
       "269    there is moderate to heavy atherosclerotic disease at the carotid bifurcations. there is no hemodynamically significant stenosis.                                                                                                                                                                                                                                                                                                         \n",
       "569   no evidence of hemodynamically significant stenosis involving the left carotid system. analysis is based on grayscale and velocity measurements which have been correlated with the nascet criteria for measuring internal carotid artery stenosis.                                                                                                                                                                                        \n",
       "1476  1. no evidence of hemodynamically significant internal carotid artery stenosis. 2. reversal of the normal direction of flow in the left vertebral artery and elevated velocity and turbulence in the subclavian artery medial to this, consistent with subclavian steal physiology, as on the prior study. note: in those cases where stenosis is present, the estimates are intended to correlate with the angiographic nascet criteria.  \n",
       "513   no evidence of hemodynamically significant stenosis. analysis of internal carotid stenosis is based on duplex doppler velocity parameters to correlate with nascet criteria.                                                                                                                                                                                                                                                               \n",
       "1001   findings compatible with a severe (80-99%) stenosis of the right internal carotid artery. no hemodynamically significant stenosis on the left.                                                                                                                                                                                                                                                                                            \n",
       "580   no sonographic evidence of hemodynamically significant narrowing. however, mild waisting within the mid stent at the carotid bulb remains. analysis of internal carotid stenosis is based on duplex doppler velocity parameters to correlate with nascet criteria.                                                                                                                                                                         \n",
       "914   diffusely scattered atherosclerotic plaques throughout both carotid systems resulting in approximately 50% stenosis in the proximal right internal carotid artery and less than 50% stenosis in the left internal carotid artery.                                                                                                                                                                                                          \n",
       "905   there is no hemodynamically significant stenosis in either carotid artery. analysis of internal carotid stenosis is based on duplex doppler velocity parameters that correlate with the calculation of an internal carotid artery stenosis according to the nascet criteria.                                                                                                                                                               "
      ]
     },
     "metadata": {},
     "output_type": "display_data"
    }
   ],
   "source": [
    "# output failed cases.\n",
    "pd.set_option('display.max_colwidth', -1)\n",
    "fields = [\n",
    "    'Past',\n",
    "    'history', \n",
    "    'findings', \n",
    "    'comparison', \n",
    "    'impression'\n",
    "]\n",
    "false_positive = (y_test_pred - y_test) > 0\n",
    "display(df_test.loc[false_positive,fields].applymap(utils.list2str))"
   ]
  }
 ],
 "metadata": {
  "kernelspec": {
   "display_name": "Python 2",
   "language": "python",
   "name": "python2"
  },
  "language_info": {
   "codemirror_mode": {
    "name": "ipython",
    "version": 2
   },
   "file_extension": ".py",
   "mimetype": "text/x-python",
   "name": "python",
   "nbconvert_exporter": "python",
   "pygments_lexer": "ipython2",
   "version": "2.7.10"
  }
 },
 "nbformat": 4,
 "nbformat_minor": 0
}
