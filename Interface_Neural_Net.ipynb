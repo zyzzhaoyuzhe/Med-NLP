{
 "cells": [
  {
   "cell_type": "code",
   "execution_count": 1,
   "metadata": {},
   "outputs": [
    {
     "name": "stderr",
     "output_type": "stream",
     "text": [
      "/Users/zyzzhaoyuzhe/virtualenvs/nlp3/lib/python3.7/site-packages/fuzzywuzzy/fuzz.py:11: UserWarning: Using slow pure-python SequenceMatcher. Install python-Levenshtein to remove this warning\n",
      "  warnings.warn('Using slow pure-python SequenceMatcher. Install python-Levenshtein to remove this warning')\n"
     ]
    }
   ],
   "source": [
    "import itertools\n",
    "import pandas as pd\n",
    "import utils\n",
    "from collections import defaultdict, OrderedDict\n",
    "import numpy as np\n",
    "from IPython.display import display\n",
    "import matplotlib.pyplot as plt\n",
    "from scipy.sparse import hstack, vstack\n",
    "import tensorflow as tf\n",
    "from nn_models import TextCNN, TextCNN_field_aware, TextRNN, TextRNN_field_aware, TextRNN_attention\n",
    "import data_helpers\n",
    "import os\n",
    "import time\n",
    "import datetime\n",
    "import pickle\n",
    "import copy\n",
    "from sklearn.preprocessing import LabelEncoder, OneHotEncoder\n",
    "from sklearn.metrics import precision_recall_curve, roc_curve"
   ]
  },
  {
   "cell_type": "code",
   "execution_count": 2,
   "metadata": {},
   "outputs": [],
   "source": [
    "ORDERED_NAMES = [u'study',\n",
    "                 u'history',\n",
    "                 u'comparison',\n",
    "                 u'technique',\n",
    "                 u'findings',\n",
    "                 u'impression', \n",
    "                 u'signed by',\n",
    "                 ]"
   ]
  },
  {
   "cell_type": "markdown",
   "metadata": {},
   "source": [
    "--------\n",
    "# Read data"
   ]
  },
  {
   "cell_type": "code",
   "execution_count": 4,
   "metadata": {},
   "outputs": [],
   "source": [
    "# Load\n",
    "df_processed = pickle.load(open('Data/DataFrame_processed.p', 'rb'))"
   ]
  },
  {
   "cell_type": "markdown",
   "metadata": {},
   "source": [
    "---\n",
    "# Data Prep"
   ]
  },
  {
   "cell_type": "code",
   "execution_count": 5,
   "metadata": {},
   "outputs": [
    {
     "name": "stdout",
     "output_type": "stream",
     "text": [
      "(1220, 5)\n",
      "(307, 5)\n"
     ]
    },
    {
     "data": {
      "text/plain": [
       "-1    1172\n",
       " 1     355\n",
       "Name: Past, dtype: int64"
      ]
     },
     "execution_count": 5,
     "metadata": {},
     "output_type": "execute_result"
    }
   ],
   "source": [
    "TO_PREDICT = 'Past'\n",
    "FIELDS = [\n",
    "    'history',\n",
    "    'findings',\n",
    "    'comparison',\n",
    "    'impression',\n",
    "#     'Grade',\n",
    "#     'Present',\n",
    "#     'Past'\n",
    "]\n",
    "\n",
    "# df_filtered = df_processed[~df_processed[TO_PREDICT].isnull() & (df_processed[TO_PREDICT] != 0)].sample(frac=1, random_state=1)\n",
    "df_filtered = df_processed[~df_processed[TO_PREDICT].isnull()].sample(frac=1, random_state=1)\n",
    "df_filtered = df_filtered[[TO_PREDICT] + FIELDS]\n",
    "\n",
    "df_train = df_filtered.iloc[:1220]\n",
    "y_train = np.array(df_train[TO_PREDICT].astype(int))\n",
    "enc = LabelEncoder()\n",
    "enc.fit(y_train)\n",
    "y_train = enc.transform(y_train)\n",
    "\n",
    "df_test = df_filtered.iloc[1220:]\n",
    "y_test = np.array(df_test[TO_PREDICT].astype(int))\n",
    "y_test = enc.transform(y_test)\n",
    "\n",
    "print(df_train.shape)\n",
    "print(df_test.shape)\n",
    "df_filtered[TO_PREDICT].value_counts()"
   ]
  },
  {
   "cell_type": "markdown",
   "metadata": {},
   "source": [
    "---\n",
    "---\n",
    "# Neural Nets"
   ]
  },
  {
   "cell_type": "markdown",
   "metadata": {},
   "source": [
    "**Data Prep**"
   ]
  },
  {
   "cell_type": "code",
   "execution_count": 6,
   "metadata": {},
   "outputs": [
    {
     "data": {
      "text/plain": [
       "Index(['Past', 'history', 'findings', 'comparison', 'impression'], dtype='object')"
      ]
     },
     "execution_count": 6,
     "metadata": {},
     "output_type": "execute_result"
    }
   ],
   "source": [
    "df_train.columns"
   ]
  },
  {
   "cell_type": "code",
   "execution_count": 7,
   "metadata": {},
   "outputs": [],
   "source": [
    "maxlen = [100,\n",
    "          125,\n",
    "          50,\n",
    "          100]"
   ]
  },
  {
   "cell_type": "code",
   "execution_count": 8,
   "metadata": {},
   "outputs": [
    {
     "name": "stderr",
     "output_type": "stream",
     "text": [
      "/Users/zyzzhaoyuzhe/virtualenvs/nlp3/lib/python3.7/site-packages/sklearn/preprocessing/_encoders.py:371: FutureWarning: The handling of integer data will change in version 0.22. Currently, the categories are determined based on the range [0, max(values)], while in the future they will be determined based on the unique values.\n",
      "If you want the future behaviour and silence this warning, you can specify \"categories='auto'\".\n",
      "In case you used a LabelEncoder before this OneHotEncoder to convert the categories to integers, then you can now use the OneHotEncoder directly.\n",
      "  warnings.warn(msg, FutureWarning)\n"
     ]
    }
   ],
   "source": [
    "x_train_text = utils.Dataframe_Proc.df2text(df_train, df_train.columns[1:])\n",
    "word2idx, idx2word = utils.Text_Proc.ngram_vocab_processor(x_train_text, ngram=1, min_count=2)\n",
    "x_train = np.array(utils.Text_Proc.encode_texts(x_train_text, word2idx, maxlen=sum(maxlen)))\n",
    "\n",
    "enc = OneHotEncoder(sparse=False)\n",
    "y_train = enc.fit_transform(y_train[:, None])\n",
    "\n",
    "x_dev_text = utils.Dataframe_Proc.df2text(df_test, df_test.columns[1:])\n",
    "x_dev = np.array(utils.Text_Proc.encode_texts(x_dev_text, word2idx, maxlen=x_train.shape[1]))\n",
    "\n",
    "y_dev = enc.transform(y_test[:, None])"
   ]
  },
  {
   "cell_type": "code",
   "execution_count": 9,
   "metadata": {},
   "outputs": [
    {
     "data": {
      "text/plain": [
       "(1220, 375)"
      ]
     },
     "execution_count": 9,
     "metadata": {},
     "output_type": "execute_result"
    }
   ],
   "source": [
    "x_train.shape"
   ]
  },
  {
   "cell_type": "markdown",
   "metadata": {},
   "source": [
    "### NN Models"
   ]
  },
  {
   "cell_type": "code",
   "execution_count": 50,
   "metadata": {},
   "outputs": [
    {
     "name": "stdout",
     "output_type": "stream",
     "text": [
      "\n",
      "Parameters:\n",
      "ALLOW_SOFT_PLACEMENT=<absl.flags._flag.BooleanFlag object at 0x136bda3c8>\n",
      "BATCH_SIZE=<absl.flags._flag.Flag object at 0x12d8d9f98>\n",
      "CHECKPOINT_EVERY=<absl.flags._flag.Flag object at 0x12d8d7a58>\n",
      "DROPOUT_KEEP_PROB=<absl.flags._flag.Flag object at 0x136bdd160>\n",
      "EMBEDDING_DIM=<absl.flags._flag.Flag object at 0x136bddda0>\n",
      "EVALUATE_EVERY=<absl.flags._flag.Flag object at 0x12d8d74e0>\n",
      "F=<absl.flags._flag.Flag object at 0x12f18e9e8>\n",
      "FILTER_SIZES=<absl.flags._flag.Flag object at 0x136bddc88>\n",
      "HIDDEN_SIZE=<absl.flags._flag.Flag object at 0x12e092a90>\n",
      "L2_REG_LAMBDA=<absl.flags._flag.Flag object at 0x136bdd9e8>\n",
      "LEARNING_RATE=<absl.flags._flag.Flag object at 0x12d8d9828>\n",
      "LOG_DEVICE_PLACEMENT=<absl.flags._flag.BooleanFlag object at 0x119d9bef0>\n",
      "LOG_EVERY=<absl.flags._flag.Flag object at 0x136bdad68>\n",
      "NUM_CHECKPOINTS=<absl.flags._flag.Flag object at 0x12d8d7a90>\n",
      "NUM_EPOCHS=<absl.flags._flag.Flag object at 0x12d8d9080>\n",
      "NUM_FILTERS=<absl.flags._flag.Flag object at 0x12e0922b0>\n",
      "NUM_LAYERS=<absl.flags._flag.Flag object at 0x12e092ac8>\n",
      "\n"
     ]
    }
   ],
   "source": [
    "# Clear flags\n",
    "if FLAGS._flags():\n",
    "    for key in [key for key in FLAGS._flags().keys()]:\n",
    "        FLAGS.__delattr__(key)\n",
    "\n",
    "# Both CNN and RNN\n",
    "tf.flags.DEFINE_integer(\"embedding_dim\", 64, \"Dimensionality of character embedding (default: 128)\")\n",
    "tf.flags.DEFINE_float(\"dropout_keep_prob\", 0.5, \"Dropout keep probability (default: 0.5)\")\n",
    "tf.flags.DEFINE_float(\"l2_reg_lambda\", 0.1, \"L2 regularization lambda (default: 0.0)\")\n",
    "\n",
    "# CNN parameter\n",
    "tf.flags.DEFINE_string(\"filter_sizes\", \"3,4\", \"Comma-separated filter sizes (default: '3,4,5')\")\n",
    "tf.flags.DEFINE_integer(\"num_filters\", 128, \"Number of filters per filter size (default: 128)\")\n",
    "\n",
    "# RNN parameter\n",
    "tf.flags.DEFINE_integer('hidden_size', 64, 'Hidden size of LSTM')\n",
    "tf.flags.DEFINE_integer('num_layers', 1, 'Number of LSTM layers')\n",
    "\n",
    "# Training parameters\n",
    "tf.flags.DEFINE_integer(\"batch_size\", 64, \"Batch Size (default: 64)\")\n",
    "tf.flags.DEFINE_float(\"learning_rate\", 1e-3, \"learning rate\")\n",
    "tf.flags.DEFINE_integer(\"num_epochs\", 100, \"Number of training epochs (default: 200)\")\n",
    "tf.flags.DEFINE_integer(\"evaluate_every\", 100, \"Evaluate model on dev set after this many steps (default: 100)\")\n",
    "tf.flags.DEFINE_integer(\"checkpoint_every\", 100, \"Save model after this many steps (default: 100)\")\n",
    "tf.flags.DEFINE_integer(\"num_checkpoints\", 5, \"Number of checkpoints to store (default: 5)\")\n",
    "tf.flags.DEFINE_integer(\"log_every\", 10, \"Logs model on dev set after this many steps (default: 100)\")\n",
    "\n",
    "# Misc Parameters\n",
    "tf.flags.DEFINE_boolean(\"allow_soft_placement\", True, \"Allow device soft device placement\")\n",
    "tf.flags.DEFINE_boolean(\"log_device_placement\", False, \"Log placement of ops on devices\")\n",
    "\n",
    "# Fix Bugs \n",
    "tf.app.flags.DEFINE_string('f', '', 'kernel')\n",
    "\n",
    "FLAGS = tf.flags.FLAGS\n",
    "# FLAGS._parse_flags()\n",
    "print(\"\\nParameters:\")\n",
    "for attr, value in sorted(FLAGS.__flags.items()):\n",
    "    print(\"{}={}\".format(attr.upper(), value))\n",
    "print(\"\")"
   ]
  },
  {
   "cell_type": "code",
   "execution_count": null,
   "metadata": {},
   "outputs": [
    {
     "name": "stdout",
     "output_type": "stream",
     "text": [
      "INFO:tensorflow:Summary name embedding/W:0/grad/hist is illegal; using embedding/W_0/grad/hist instead.\n",
      "INFO:tensorflow:Summary name embedding/W:0/grad/sparsity is illegal; using embedding/W_0/grad/sparsity instead.\n",
      "INFO:tensorflow:Summary name conv-maxpool-3/W:0/grad/hist is illegal; using conv-maxpool-3/W_0/grad/hist instead.\n",
      "INFO:tensorflow:Summary name conv-maxpool-3/W:0/grad/sparsity is illegal; using conv-maxpool-3/W_0/grad/sparsity instead.\n",
      "INFO:tensorflow:Summary name conv-maxpool-3/b:0/grad/hist is illegal; using conv-maxpool-3/b_0/grad/hist instead.\n",
      "INFO:tensorflow:Summary name conv-maxpool-3/b:0/grad/sparsity is illegal; using conv-maxpool-3/b_0/grad/sparsity instead.\n",
      "INFO:tensorflow:Summary name conv-maxpool-4/W:0/grad/hist is illegal; using conv-maxpool-4/W_0/grad/hist instead.\n",
      "INFO:tensorflow:Summary name conv-maxpool-4/W:0/grad/sparsity is illegal; using conv-maxpool-4/W_0/grad/sparsity instead.\n",
      "INFO:tensorflow:Summary name conv-maxpool-4/b:0/grad/hist is illegal; using conv-maxpool-4/b_0/grad/hist instead.\n",
      "INFO:tensorflow:Summary name conv-maxpool-4/b:0/grad/sparsity is illegal; using conv-maxpool-4/b_0/grad/sparsity instead.\n",
      "INFO:tensorflow:Summary name W:0/grad/hist is illegal; using W_0/grad/hist instead.\n",
      "INFO:tensorflow:Summary name W:0/grad/sparsity is illegal; using W_0/grad/sparsity instead.\n",
      "INFO:tensorflow:Summary name output/b:0/grad/hist is illegal; using output/b_0/grad/hist instead.\n",
      "INFO:tensorflow:Summary name output/b:0/grad/sparsity is illegal; using output/b_0/grad/sparsity instead.\n",
      "Writing to /Users/zyzzhaoyuzhe/Documents/Med-NLP/runs/CNN_64_128_1552533193\n",
      "\n",
      "2019-03-13T23:13:15.632740: step 10, loss 2.12545, acc 0.6875\n",
      "2019-03-13T23:13:17.715807: step 20, loss 2.1414, acc 0.75\n",
      "2019-03-13T23:13:19.749547: step 30, loss 1.20046, acc 0.703125\n",
      "2019-03-13T23:13:21.904154: step 40, loss 1.47341, acc 0.5\n",
      "2019-03-13T23:13:24.154007: step 50, loss 1.79901, acc 0.640625\n",
      "2019-03-13T23:13:25.915468: step 60, loss 0.725859, acc 0.75\n",
      "2019-03-13T23:13:27.795435: step 70, loss 0.961079, acc 0.703125\n",
      "2019-03-13T23:13:29.519168: step 80, loss 0.639446, acc 0.75\n",
      "2019-03-13T23:13:31.452836: step 90, loss 1.13969, acc 0.78125\n",
      "2019-03-13T23:13:33.184744: step 100, loss 0.370727, acc 1\n",
      "\n",
      "Evaluation:\n",
      "2019-03-13T23:13:33.468295: step 100, loss 0.531659, acc 0.840391\n",
      "\n",
      "Saved model checkpoint to /Users/zyzzhaoyuzhe/Documents/Med-NLP/runs/CNN_64_128_1552533193/checkpoints/model-100\n",
      "\n",
      "2019-03-13T23:13:35.480694: step 110, loss 1.05689, acc 0.734375\n",
      "2019-03-13T23:13:37.226730: step 120, loss 2.39147, acc 0.5\n",
      "2019-03-13T23:13:39.173592: step 130, loss 1.19633, acc 0.671875\n",
      "2019-03-13T23:13:40.941221: step 140, loss 0.606984, acc 0.75\n",
      "2019-03-13T23:13:42.883183: step 150, loss 0.717635, acc 0.78125\n",
      "2019-03-13T23:13:44.693603: step 160, loss 0.87193, acc 0.75\n",
      "2019-03-13T23:13:46.616886: step 170, loss 0.715929, acc 0.859375\n",
      "2019-03-13T23:13:48.374916: step 180, loss 0.161275, acc 1\n",
      "2019-03-13T23:13:50.358383: step 190, loss 0.695203, acc 0.8125\n",
      "2019-03-13T23:13:52.122476: step 200, loss 0.372137, acc 0.75\n",
      "\n",
      "Evaluation:\n",
      "2019-03-13T23:13:52.390781: step 200, loss 0.470571, acc 0.876221\n",
      "\n",
      "Saved model checkpoint to /Users/zyzzhaoyuzhe/Documents/Med-NLP/runs/CNN_64_128_1552533193/checkpoints/model-200\n",
      "\n",
      "2019-03-13T23:13:54.407105: step 210, loss 0.560575, acc 0.84375\n",
      "2019-03-13T23:13:56.155722: step 220, loss 0.197143, acc 1\n",
      "2019-03-13T23:13:58.139709: step 230, loss 0.323017, acc 0.953125\n",
      "2019-03-13T23:14:00.022709: step 240, loss 0.213582, acc 1\n",
      "2019-03-13T23:14:02.146434: step 250, loss 0.621349, acc 0.8125\n",
      "2019-03-13T23:14:04.022417: step 260, loss 0.163264, acc 1\n",
      "2019-03-13T23:14:06.059916: step 270, loss 0.418133, acc 0.921875\n",
      "2019-03-13T23:14:07.912024: step 280, loss 0.396115, acc 1\n",
      "2019-03-13T23:14:10.053448: step 290, loss 0.419815, acc 0.84375\n",
      "2019-03-13T23:14:11.841823: step 300, loss 0.474084, acc 0.75\n",
      "\n",
      "Evaluation:\n",
      "2019-03-13T23:14:12.105009: step 300, loss 0.478348, acc 0.872964\n",
      "\n",
      "Saved model checkpoint to /Users/zyzzhaoyuzhe/Documents/Med-NLP/runs/CNN_64_128_1552533193/checkpoints/model-300\n",
      "\n",
      "2019-03-13T23:14:14.170401: step 310, loss 0.531493, acc 0.859375\n",
      "2019-03-13T23:14:15.977899: step 320, loss 0.289353, acc 1\n",
      "2019-03-13T23:14:17.897982: step 330, loss 0.449266, acc 0.859375\n",
      "2019-03-13T23:14:19.702314: step 340, loss 0.134132, acc 1\n",
      "2019-03-13T23:14:21.798792: step 350, loss 0.597275, acc 0.859375\n",
      "2019-03-13T23:14:23.798560: step 360, loss 0.380337, acc 1\n",
      "2019-03-13T23:14:26.109060: step 370, loss 0.38471, acc 0.84375\n",
      "2019-03-13T23:14:28.280226: step 380, loss 0.482499, acc 0.75\n",
      "2019-03-13T23:14:30.303921: step 390, loss 0.296633, acc 0.9375\n",
      "2019-03-13T23:14:32.082384: step 400, loss 0.185124, acc 1\n",
      "\n",
      "Evaluation:\n",
      "2019-03-13T23:14:32.347422: step 400, loss 0.405999, acc 0.892508\n",
      "\n",
      "Saved model checkpoint to /Users/zyzzhaoyuzhe/Documents/Med-NLP/runs/CNN_64_128_1552533193/checkpoints/model-400\n",
      "\n",
      "2019-03-13T23:14:34.363768: step 410, loss 0.446188, acc 0.921875\n",
      "2019-03-13T23:14:36.157338: step 420, loss 1.21085, acc 0.75\n",
      "2019-03-13T23:14:38.118570: step 430, loss 0.467205, acc 0.859375\n",
      "2019-03-13T23:14:40.017155: step 440, loss 1.55648, acc 0.75\n",
      "2019-03-13T23:14:42.187176: step 450, loss 0.726433, acc 0.796875\n",
      "2019-03-13T23:14:44.163370: step 460, loss 0.597948, acc 0.75\n",
      "2019-03-13T23:14:46.441587: step 470, loss 0.327779, acc 0.921875\n",
      "2019-03-13T23:14:48.498089: step 480, loss 0.299631, acc 0.75\n",
      "2019-03-13T23:14:50.717515: step 490, loss 0.251853, acc 0.9375\n",
      "2019-03-13T23:14:52.560862: step 500, loss 1.00085, acc 0.75\n",
      "\n",
      "Evaluation:\n",
      "2019-03-13T23:14:52.843444: step 500, loss 0.376195, acc 0.889251\n",
      "\n",
      "Saved model checkpoint to /Users/zyzzhaoyuzhe/Documents/Med-NLP/runs/CNN_64_128_1552533193/checkpoints/model-500\n",
      "\n",
      "2019-03-13T23:14:54.937085: step 510, loss 0.248295, acc 0.9375\n",
      "2019-03-13T23:14:56.817122: step 520, loss 0.117516, acc 1\n",
      "2019-03-13T23:14:59.090480: step 530, loss 0.358135, acc 0.90625\n",
      "2019-03-13T23:15:01.183830: step 540, loss 0.13376, acc 1\n",
      "2019-03-13T23:15:03.394858: step 550, loss 0.425496, acc 0.875\n",
      "2019-03-13T23:15:05.205729: step 560, loss 1.01003, acc 0.75\n",
      "2019-03-13T23:15:07.195881: step 570, loss 0.225114, acc 0.96875\n",
      "2019-03-13T23:15:09.091058: step 580, loss 0.14093, acc 1\n",
      "2019-03-13T23:15:11.308088: step 590, loss 0.400861, acc 0.90625\n",
      "2019-03-13T23:15:14.209097: step 600, loss 0.120134, acc 1\n",
      "\n",
      "Evaluation:\n",
      "2019-03-13T23:15:14.833078: step 600, loss 0.360093, acc 0.892508\n",
      "\n",
      "Saved model checkpoint to /Users/zyzzhaoyuzhe/Documents/Med-NLP/runs/CNN_64_128_1552533193/checkpoints/model-600\n",
      "\n",
      "2019-03-13T23:15:17.012779: step 610, loss 0.285833, acc 0.90625\n",
      "2019-03-13T23:15:18.950819: step 620, loss 0.114599, acc 1\n",
      "2019-03-13T23:15:21.197873: step 630, loss 0.179827, acc 0.984375\n",
      "2019-03-13T23:15:23.194600: step 640, loss 0.190024, acc 1\n",
      "2019-03-13T23:15:25.654969: step 650, loss 0.175272, acc 0.96875\n",
      "2019-03-13T23:15:27.535467: step 660, loss 0.22059, acc 1\n",
      "2019-03-13T23:15:29.785709: step 670, loss 0.347534, acc 0.953125\n",
      "2019-03-13T23:15:31.661111: step 680, loss 0.446568, acc 0.75\n",
      "2019-03-13T23:15:33.907875: step 690, loss 0.215051, acc 0.921875\n",
      "2019-03-13T23:15:35.813910: step 700, loss 0.17427, acc 1\n",
      "\n",
      "Evaluation:\n",
      "2019-03-13T23:15:36.145537: step 700, loss 0.345256, acc 0.889251\n",
      "\n",
      "Saved model checkpoint to /Users/zyzzhaoyuzhe/Documents/Med-NLP/runs/CNN_64_128_1552533193/checkpoints/model-700\n",
      "\n",
      "2019-03-13T23:15:38.654654: step 710, loss 0.167133, acc 0.984375\n",
      "2019-03-13T23:15:40.483255: step 720, loss 0.165225, acc 1\n",
      "2019-03-13T23:15:42.435133: step 730, loss 0.300546, acc 0.921875\n",
      "2019-03-13T23:15:44.286043: step 740, loss 0.309739, acc 0.75\n",
      "2019-03-13T23:15:46.289403: step 750, loss 0.249606, acc 0.953125\n",
      "2019-03-13T23:15:48.158970: step 760, loss 0.146956, acc 1\n",
      "2019-03-13T23:15:50.202127: step 770, loss 0.187187, acc 0.953125\n",
      "2019-03-13T23:15:52.025771: step 780, loss 0.102607, acc 1\n",
      "2019-03-13T23:15:54.055699: step 790, loss 0.193127, acc 0.984375\n",
      "2019-03-13T23:15:55.882980: step 800, loss 0.31439, acc 0.75\n",
      "\n",
      "Evaluation:\n",
      "2019-03-13T23:15:56.235209: step 800, loss 0.336022, acc 0.895765\n",
      "\n",
      "Saved model checkpoint to /Users/zyzzhaoyuzhe/Documents/Med-NLP/runs/CNN_64_128_1552533193/checkpoints/model-800\n",
      "\n",
      "2019-03-13T23:15:58.352395: step 810, loss 0.310566, acc 0.921875\n"
     ]
    },
    {
     "name": "stdout",
     "output_type": "stream",
     "text": [
      "2019-03-13T23:16:00.196600: step 820, loss 0.902088, acc 0.75\n",
      "2019-03-13T23:16:02.255465: step 830, loss 0.198542, acc 0.921875\n",
      "2019-03-13T23:16:04.392791: step 840, loss 0.176717, acc 1\n",
      "2019-03-13T23:16:06.675415: step 850, loss 0.301644, acc 0.921875\n",
      "2019-03-13T23:16:08.624880: step 860, loss 0.105039, acc 1\n",
      "2019-03-13T23:16:11.167899: step 870, loss 0.216011, acc 0.953125\n",
      "2019-03-13T23:16:13.411588: step 880, loss 0.229954, acc 1\n",
      "2019-03-13T23:16:15.958366: step 890, loss 0.280582, acc 0.890625\n",
      "2019-03-13T23:16:17.863827: step 900, loss 0.0742189, acc 1\n",
      "\n",
      "Evaluation:\n",
      "2019-03-13T23:16:18.169473: step 900, loss 0.324054, acc 0.899023\n",
      "\n",
      "Saved model checkpoint to /Users/zyzzhaoyuzhe/Documents/Med-NLP/runs/CNN_64_128_1552533193/checkpoints/model-900\n",
      "\n",
      "2019-03-13T23:16:20.284482: step 910, loss 0.247719, acc 0.953125\n",
      "2019-03-13T23:16:22.107352: step 920, loss 0.0954444, acc 1\n",
      "2019-03-13T23:16:24.169602: step 930, loss 0.306952, acc 0.921875\n",
      "2019-03-13T23:16:26.002276: step 940, loss 0.597108, acc 0.75\n",
      "2019-03-13T23:16:27.964639: step 950, loss 0.134849, acc 0.984375\n",
      "2019-03-13T23:16:29.756201: step 960, loss 0.591792, acc 0.75\n",
      "2019-03-13T23:16:31.747658: step 970, loss 0.227271, acc 0.921875\n",
      "2019-03-13T23:16:33.539996: step 980, loss 0.097568, acc 1\n"
     ]
    }
   ],
   "source": [
    "with tf.Graph().as_default():\n",
    "    session_conf = tf.ConfigProto(\n",
    "      allow_soft_placement=FLAGS.allow_soft_placement,\n",
    "      log_device_placement=FLAGS.log_device_placement)\n",
    "    sess = tf.Session(config=session_conf)\n",
    "    with sess.as_default():\n",
    "        \n",
    "        model = TextCNN(\n",
    "            sequence_length=x_train.shape[1],\n",
    "            num_classes=y_train.shape[1],\n",
    "            vocab_size=len(word2idx),\n",
    "            embedding_size=FLAGS.embedding_dim,\n",
    "            filter_sizes=list(map(int, FLAGS.filter_sizes.split(\",\"))),\n",
    "            num_filters=FLAGS.num_filters,\n",
    "            l2_reg_lambda=FLAGS.l2_reg_lambda)\n",
    "\n",
    "#         model = TextCNN_field_aware(sequence_lengths=maxlen,\n",
    "#                                     num_classes=y_train.shape[1],\n",
    "#                                     vocab_size=len(word2idx),\n",
    "#                                     embedding_size=FLAGS.embedding_dim,\n",
    "#                                     filter_sizes=list(map(int, FLAGS.filter_sizes.split(\",\"))),\n",
    "#                                     num_filters=FLAGS.num_filters,\n",
    "#                                     l2_reg_lambda=FLAGS.l2_reg_lambda)\n",
    "\n",
    "#         model = TextRNN(sequence_length=sum(maxlen),\n",
    "#                         num_classes=y_train.shape[1],\n",
    "#                         vocab_size=len(word2idx),\n",
    "#                         embedding_size=FLAGS.embedding_dim,\n",
    "#                         hidden_size=FLAGS.hidden_size,\n",
    "#                         num_layers=FLAGS.num_layers,\n",
    "#                         l2_reg_lambda=FLAGS.l2_reg_lambda)\n",
    "\n",
    "#         model = TextRNN_field_aware(sequence_lengths=maxlen,\n",
    "#                                     num_classes=y_train.shape[1],\n",
    "#                                     vocab_size=len(word2idx),\n",
    "#                                     embedding_size=FLAGS.embedding_dim,\n",
    "#                                     hidden_size=FLAGS.hidden_size,\n",
    "#                                     num_layers=FLAGS.num_layers,\n",
    "#                                     l2_reg_lambda=FLAGS.l2_reg_lambda)\n",
    "\n",
    "#         model = TextRNN_attention(sequence_length=sum(maxlen),\n",
    "#                         num_classes=y_train.shape[1],\n",
    "#                         vocab_size=len(word2idx),\n",
    "#                         embedding_size=FLAGS.embedding_dim,\n",
    "#                         hidden_size=FLAGS.hidden_size,\n",
    "#                         num_layers=FLAGS.num_layers,\n",
    "#                         l2_reg_lambda=FLAGS.l2_reg_lambda)\n",
    "\n",
    "\n",
    "        # Define Training procedure\n",
    "        global_step = tf.Variable(0, name=\"global_step\", trainable=False)\n",
    "        # optimizer = tf.train.GradientDescentOptimizer(1e-3)\n",
    "        optimizer = tf.train.AdamOptimizer(FLAGS.learning_rate)\n",
    "        grads_and_vars = optimizer.compute_gradients(model.loss)\n",
    "        train_op = optimizer.apply_gradients(grads_and_vars, global_step=global_step)\n",
    "\n",
    "        # Keep track of gradient values and sparsity (optional)\n",
    "        grad_summaries = []\n",
    "        for g, v in grads_and_vars:\n",
    "            if g is not None:\n",
    "                grad_hist_summary = tf.summary.histogram(\"{}/grad/hist\".format(v.name), g)\n",
    "                sparsity_summary = tf.summary.scalar(\"{}/grad/sparsity\".format(v.name), tf.nn.zero_fraction(g))\n",
    "                grad_summaries.append(grad_hist_summary)\n",
    "                grad_summaries.append(sparsity_summary)\n",
    "        grad_summaries_merged = tf.summary.merge(grad_summaries)\n",
    "\n",
    "        # Output directory for models and summaries\n",
    "        timestamp = str(int(time.time()))\n",
    "\n",
    "        if 'CNN' in model.__class__.__name__:\n",
    "            name = \"CNN_{}_{}_\".format(FLAGS.embedding_dim, FLAGS.num_filters)\n",
    "        elif 'RNN' in model.__class__.__name__:\n",
    "            name = \"RNN_{}_{}_{}_\".format(FLAGS.embedding_dim, FLAGS.hidden_size, FLAGS.num_layers)\n",
    "\n",
    "\n",
    "        out_dir = os.path.abspath(os.path.join(os.path.curdir, \"runs\", name + timestamp))\n",
    "        print(\"Writing to {}\\n\".format(out_dir))\n",
    "\n",
    "        # Summaries for loss and accuracy\n",
    "        loss_summary = tf.summary.scalar(\"loss\", model.loss)\n",
    "        acc_summary = tf.summary.scalar(\"accuracy\", model.accuracy)\n",
    "\n",
    "        # Train Summaries\n",
    "        train_summary_op = tf.summary.merge([loss_summary, acc_summary, grad_summaries_merged])\n",
    "        train_summary_dir = os.path.join(out_dir, \"summaries\", \"train\")\n",
    "        train_summary_writer = tf.summary.FileWriter(train_summary_dir, sess.graph)\n",
    "\n",
    "        # Dev summaries\n",
    "        dev_summary_op = tf.summary.merge([loss_summary, acc_summary])\n",
    "        dev_summary_dir = os.path.join(out_dir, \"summaries\", \"dev\")\n",
    "        dev_summary_writer = tf.summary.FileWriter(dev_summary_dir, sess.graph)\n",
    "\n",
    "        # Checkpoint directory. Tensorflow assumes this directory already exists so we need to create it\n",
    "        checkpoint_dir = os.path.abspath(os.path.join(out_dir, \"checkpoints\"))\n",
    "        checkpoint_prefix = os.path.join(checkpoint_dir, \"model\")\n",
    "        if not os.path.exists(checkpoint_dir):\n",
    "            os.makedirs(checkpoint_dir)\n",
    "        saver = tf.train.Saver(tf.global_variables(), max_to_keep=FLAGS.num_checkpoints)\n",
    "\n",
    "        # Write vocabulary\n",
    "        # vocab_processor.save(os.path.join(out_dir, \"vocab\"))\n",
    "\n",
    "        # Initialize all variables\n",
    "        sess.run(tf.global_variables_initializer())\n",
    "\n",
    "        def train_step(x_batch, y_batch):\n",
    "            \"\"\"\n",
    "            A single training step\n",
    "            \"\"\"\n",
    "            feed_dict = {\n",
    "                model.input_x: x_batch,\n",
    "                model.input_y: y_batch,\n",
    "                model.dropout_keep_prob: FLAGS.dropout_keep_prob,\n",
    "                model.batch_size: len(x_batch)\n",
    "            }\n",
    "\n",
    "            _, step, summaries, loss, accuracy = sess.run(\n",
    "                [train_op, global_step, train_summary_op, model.loss, model.accuracy],\n",
    "                feed_dict)\n",
    "            time_str = datetime.datetime.now().isoformat()\n",
    "            if step % FLAGS.log_every == 0:\n",
    "                print(\"{}: step {}, loss {:g}, acc {:g}\".format(time_str, step, loss, accuracy))\n",
    "            train_summary_writer.add_summary(summaries, step)\n",
    "\n",
    "        def dev_step(x_batch, y_batch, writer=None):\n",
    "            \"\"\"\n",
    "            Evaluates model on a dev set\n",
    "            \"\"\"\n",
    "            feed_dict = {\n",
    "                model.input_x: x_batch,\n",
    "                model.input_y: y_batch,\n",
    "                model.dropout_keep_prob: 1.0,\n",
    "                model.batch_size: len(x_batch)\n",
    "            }\n",
    "\n",
    "            step, summaries, loss, accuracy = sess.run(\n",
    "                [global_step, dev_summary_op, model.loss, model.accuracy],\n",
    "                feed_dict)\n",
    "            time_str = datetime.datetime.now().isoformat()\n",
    "            print(\"{}: step {}, loss {:g}, acc {:g}\".format(time_str, step, loss, accuracy))\n",
    "            if writer:\n",
    "                writer.add_summary(summaries, step)\n",
    "\n",
    "        # Generate batches\n",
    "        batches = data_helpers.batch_iter(\n",
    "            list(zip(x_train, y_train)), FLAGS.batch_size, FLAGS.num_epochs)\n",
    "        # Training loop. For each batch...\n",
    "        for batch in batches:\n",
    "            x_batch, y_batch = zip(*batch)\n",
    "\n",
    "            train_step(x_batch, y_batch)\n",
    "            current_step = tf.train.global_step(sess, global_step)\n",
    "            if current_step % FLAGS.evaluate_every == 0:\n",
    "                print(\"\\nEvaluation:\")\n",
    "                dev_step(x_dev, y_dev, writer=dev_summary_writer)\n",
    "                print(\"\")\n",
    "            if current_step % FLAGS.checkpoint_every == 0:\n",
    "                path = saver.save(sess, checkpoint_prefix, global_step=current_step)\n",
    "                print(\"Saved model checkpoint to {}\\n\".format(path))\n",
    "\n",
    "        #\n",
    "        feed_dict = {\n",
    "            model.input_x: x_dev,\n",
    "            model.input_y: y_dev,\n",
    "            model.dropout_keep_prob: 1.0,\n",
    "            model.batch_size: len(x_dev)\n",
    "        }\n",
    "        y_dev_pred = sess.run([model.predictions], feed_dict=feed_dict)\n",
    "        y_dev_prob = sess.run([tf.math.exp(model.logits)], feed_dict=feed_dict)\n",
    "#         y_dev_pred, alpha = sess.run([model.predictions, model.alpha], feed_dict=feed_dict)"
   ]
  },
  {
   "cell_type": "code",
   "execution_count": 47,
   "metadata": {},
   "outputs": [],
   "source": [
    "# PR Curve\n",
    "pr_curves = []  # reset "
   ]
  },
  {
   "cell_type": "code",
   "execution_count": 48,
   "metadata": {},
   "outputs": [
    {
     "data": {
      "text/plain": [
       "<matplotlib.legend.Legend at 0x136be1a20>"
      ]
     },
     "execution_count": 48,
     "metadata": {},
     "output_type": "execute_result"
    },
    {
     "data": {
      "image/png": "[encoded data removed]",
      "text/plain": [
       "<Figure size 432x288 with 1 Axes>"
      ]
     },
     "metadata": {
      "needs_background": "light"
     },
     "output_type": "display_data"
    }
   ],
   "source": [
    "# PR Curve\n",
    "pr_curves.append(precision_recall_curve(y_test, y_dev_prob[0][:, 1]))\n",
    "for pr_curve in pr_curves:\n",
    "    plt.plot(pr_curve[1], pr_curve[0])\n",
    "plt.legend(range(len(pr_curves)))"
   ]
  },
  {
   "cell_type": "code",
   "execution_count": 31,
   "metadata": {},
   "outputs": [],
   "source": [
    "# ROC curve\n",
    "rocs = []  # reset "
   ]
  },
  {
   "cell_type": "code",
   "execution_count": 49,
   "metadata": {},
   "outputs": [
    {
     "data": {
      "text/plain": [
       "<matplotlib.legend.Legend at 0x13650d748>"
      ]
     },
     "execution_count": 49,
     "metadata": {},
     "output_type": "execute_result"
    },
    {
     "data": {
      "image/png": "[encoded data removed]",
      "text/plain": [
       "<Figure size 432x288 with 1 Axes>"
      ]
     },
     "metadata": {
      "needs_background": "light"
     },
     "output_type": "display_data"
    }
   ],
   "source": [
    "# ROC Curve\n",
    "rocs.append(roc_curve(y_test, y_dev_prob[0][:, 1]))\n",
    "for roc in rocs:\n",
    "    plt.plot(roc[0], roc[1])\n",
    "plt.legend(range(len(rocs)))"
   ]
  },
  {
   "cell_type": "code",
   "execution_count": 17,
   "metadata": {},
   "outputs": [
    {
     "name": "stderr",
     "output_type": "stream",
     "text": [
      "/Users/zyzzhaoyuzhe/Documents/Med-NLP/utils.py:507: RuntimeWarning: invalid value encountered in long_scalars\n",
      "  precision = CM.iloc[1, 1] / CM.iloc[:, 1].sum()\n"
     ]
    },
    {
     "data": {
      "text/plain": [
       "sensitivity    0.000000\n",
       "specificity    1.000000\n",
       "precision           NaN\n",
       "NPV            0.794788\n",
       "accuracy       0.794788\n",
       "dtype: float64"
      ]
     },
     "execution_count": 17,
     "metadata": {},
     "output_type": "execute_result"
    }
   ],
   "source": [
    "utils.my_classification_report(y_test, y_dev_pred[0])"
   ]
  },
  {
   "cell_type": "code",
   "execution_count": null,
   "metadata": {},
   "outputs": [],
   "source": [
    "model = \"TextRNN_field_aware\"\n",
    "output = output_report(y_test, y_dev_pred[0])\n",
    "output.to_csv(\"CI/\" + model +'.csv', header=False)"
   ]
  }
 ],
 "metadata": {
  "kernelspec": {
   "display_name": "Python 3",
   "language": "python",
   "name": "python3"
  },
  "language_info": {
   "codemirror_mode": {
    "name": "ipython",
    "version": 3
   },
   "file_extension": ".py",
   "mimetype": "text/x-python",
   "name": "python",
   "nbconvert_exporter": "python",
   "pygments_lexer": "ipython3",
   "version": "3.7.0"
  }
 },
 "nbformat": 4,
 "nbformat_minor": 2
}
