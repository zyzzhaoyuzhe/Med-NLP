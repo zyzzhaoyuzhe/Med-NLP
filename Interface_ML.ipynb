{
 "cells": [
  {
   "cell_type": "code",
   "execution_count": null,
   "metadata": {
    "scrolled": false
   },
   "outputs": [],
   "source": [
    "import itertools\n",
    "import pandas as pd\n",
    "import utils\n",
    "from collections import defaultdict, OrderedDict\n",
    "import numpy as np\n",
    "from IPython.display import display\n",
    "import matplotlib.pyplot as plt\n",
    "from scipy.sparse import hstack, vstack\n",
    "import tensorflow as tf\n",
    "from nn_models import TextCNN, TextCNN_field_aware, TextRNN, TextRNN_field_aware, TextRNN_attention\n",
    "import data_helpers\n",
    "import os\n",
    "import time\n",
    "import datetime\n",
    "import pickle\n",
    "import copy\n",
    "from sklearn.preprocessing import LabelEncoder, OneHotEncoder\n",
    "from sklearn.metrics import precision_recall_curve, roc_curve"
   ]
  },
  {
   "cell_type": "code",
   "execution_count": null,
   "metadata": {},
   "outputs": [],
   "source": [
    "ORDERED_NAMES = [u'study',\n",
    "                 u'history',\n",
    "                 u'comparison',\n",
    "                 u'technique',\n",
    "                 u'findings',\n",
    "                 u'impression', \n",
    "                 u'signed by',\n",
    "                 ]"
   ]
  },
  {
   "cell_type": "markdown",
   "metadata": {},
   "source": [
    "--------\n",
    "# Read data"
   ]
  },
  {
   "cell_type": "code",
   "execution_count": 3,
   "metadata": {},
   "outputs": [],
   "source": [
    "filename = 'Data/upto1528.xlsx'\n",
    "df_raw = pd.read_excel(open(filename, 'rb'))"
   ]
  },
  {
   "cell_type": "code",
   "execution_count": 4,
   "metadata": {
    "scrolled": true
   },
   "outputs": [
    {
     "name": "stdout",
     "output_type": "stream",
     "text": [
      "(1527, 53)\n"
     ]
    },
    {
     "name": "stderr",
     "output_type": "stream",
     "text": [
      "/Users/zyzzhaoyuzhe/virtualenvs/nlp3/lib/python3.7/site-packages/pandas/core/indexing.py:190: SettingWithCopyWarning: \n",
      "A value is trying to be set on a copy of a slice from a DataFrame\n",
      "\n",
      "See the caveats in the documentation: http://pandas.pydata.org/pandas-docs/stable/indexing.html#indexing-view-versus-copy\n",
      "  self._setitem_with_indexer(indexer, value)\n"
     ]
    }
   ],
   "source": [
    "# Data is stored in df\n",
    "ps = utils.Parser()\n",
    "ps.parse(df_raw)\n",
    "df = ps.df\n",
    "for idx, row in df['findings'].items():\n",
    "    try:\n",
    "        text, velos = utils.parse_findings(row)\n",
    "        df.at[idx, 'findings'] = text\n",
    "        for n, v in velos:\n",
    "            df.at[0, n] = v\n",
    "    except:\n",
    "        pass\n",
    "discardField = ['Report Text']\n",
    "foo = [item for item in df.columns.tolist() if item not in ORDERED_NAMES + discardField]\n",
    "foo.sort()\n",
    "CORE_COL = ORDERED_NAMES + foo\n",
    "df = df[CORE_COL]\n",
    "df = pd.concat([df_raw[['Past', 'Present', 'Left', 'Right', 'Count']], df[CORE_COL]], axis=1)\n",
    "# turn null to []\n",
    "df = utils.null2empty(df, ['history', 'impression', 'comparison'])\n",
    "\n",
    "# Add Grade\n",
    "df.loc[df['Left'].isnull(), 'Left'] = 0\n",
    "df.loc[df['Left']==4, 'Left'] = 0.5\n",
    "\n",
    "df.loc[df['Right'].isnull(), 'Right'] = 0\n",
    "df.loc[df['Right']==4, 'Right'] = 0.5\n",
    "\n",
    "df['Grade'] = df[['Left', 'Right']].max(axis=1)\n",
    "df.loc[df['Grade']==0.5, 'Grade'] = 4\n",
    "df['Grade'] = df['Grade'].astype('int')\n",
    "\n",
    "print(df.shape)"
   ]
  },
  {
   "cell_type": "code",
   "execution_count": 5,
   "metadata": {},
   "outputs": [],
   "source": [
    "FIELDS = [\n",
    "    'history', \n",
    "    'findings', \n",
    "    'comparison', \n",
    "    'impression'\n",
    "]\n",
    "df = df[['Past', 'Present', 'Grade'] + FIELDS]\n",
    "df_processed = utils.Dataframe_Proc.strs2str(df, FIELDS)"
   ]
  },
  {
   "cell_type": "code",
   "execution_count": null,
   "metadata": {},
   "outputs": [],
   "source": [
    "df_processed.columns"
   ]
  },
  {
   "cell_type": "code",
   "execution_count": null,
   "metadata": {},
   "outputs": [],
   "source": [
    "# Save\n",
    "pickle.dump(df_processed, open('Data/DataFrame_processed.p', 'wb'))"
   ]
  },
  {
   "cell_type": "code",
   "execution_count": 6,
   "metadata": {},
   "outputs": [],
   "source": [
    "# Load\n",
    "df_processed = pickle.load(open('Data/DataFrame_processed.p', 'rb'))"
   ]
  },
  {
   "cell_type": "markdown",
   "metadata": {},
   "source": [
    "---\n",
    "# Data Prep"
   ]
  },
  {
   "cell_type": "code",
   "execution_count": 7,
   "metadata": {},
   "outputs": [
    {
     "name": "stdout",
     "output_type": "stream",
     "text": [
      "(1220, 5)\n",
      "(307, 5)\n"
     ]
    },
    {
     "data": {
      "text/plain": [
       "-1    1033\n",
       " 1     405\n",
       " 0      89\n",
       "Name: Present, dtype: int64"
      ]
     },
     "execution_count": 7,
     "metadata": {},
     "output_type": "execute_result"
    }
   ],
   "source": [
    "TO_PREDICT = 'Present'\n",
    "FIELDS = [\n",
    "    'history',\n",
    "    'findings',\n",
    "    'comparison',\n",
    "    'impression',\n",
    "#     'Grade',\n",
    "#     'Present',\n",
    "#     'Past'\n",
    "]\n",
    "\n",
    "# df_filtered = df_processed[~df_processed[TO_PREDICT].isnull() & (df_processed[TO_PREDICT] != 0)].sample(frac=1, random_state=1)\n",
    "df_filtered = df_processed[~df_processed[TO_PREDICT].isnull()].sample(frac=1, random_state=1)\n",
    "df_filtered = df_filtered[[TO_PREDICT] + FIELDS]\n",
    "\n",
    "df_train = df_filtered.iloc[:1220]\n",
    "y_train = np.array(df_train[TO_PREDICT].astype(int))\n",
    "enc = LabelEncoder()\n",
    "enc.fit(y_train)\n",
    "y_train = enc.transform(y_train)\n",
    "\n",
    "df_test = df_filtered.iloc[1220:]\n",
    "y_test = np.array(df_test[TO_PREDICT].astype(int))\n",
    "y_test = enc.transform(y_test)\n",
    "\n",
    "print(df_train.shape)\n",
    "print(df_test.shape)\n",
    "df_filtered[TO_PREDICT].value_counts()"
   ]
  },
  {
   "cell_type": "markdown",
   "metadata": {},
   "source": [
    "---\n",
    "# Tranditional ML"
   ]
  },
  {
   "cell_type": "markdown",
   "metadata": {},
   "source": [
    "### TFIDF features"
   ]
  },
  {
   "cell_type": "code",
   "execution_count": 8,
   "metadata": {},
   "outputs": [
    {
     "name": "stdout",
     "output_type": "stream",
     "text": [
      "(1220, 2346)\n",
      "(307, 2346)\n"
     ]
    }
   ],
   "source": [
    "ngram, min_count = 2, 10\n",
    "\n",
    "obj = utils.Df2TFIDF()\n",
    "obj.fit(df_train, ngram=ngram, min_count=min_count)\n",
    "output_train = obj.transform(df_train)\n",
    "output_test = obj.transform(df_test)\n",
    "# concatenate sparse matrices of all fields\n",
    "x_train = hstack([foo['bow_tfidf'] for foo in output_train.values()])\n",
    "x_test = hstack([foo['bow_tfidf'] for foo in output_test.values()])\n",
    "\n",
    "print(x_train.shape)\n",
    "print(x_test.shape)"
   ]
  },
  {
   "cell_type": "markdown",
   "metadata": {},
   "source": [
    "### Run classifier"
   ]
  },
  {
   "cell_type": "code",
   "execution_count": 9,
   "metadata": {},
   "outputs": [
    {
     "name": "stderr",
     "output_type": "stream",
     "text": [
      "/Users/zyzzhaoyuzhe/virtualenvs/nlp3/lib/python3.7/site-packages/sklearn/linear_model/logistic.py:433: FutureWarning: Default solver will be changed to 'lbfgs' in 0.22. Specify a solver to silence this warning.\n",
      "  FutureWarning)\n",
      "/Users/zyzzhaoyuzhe/virtualenvs/nlp3/lib/python3.7/site-packages/sklearn/linear_model/logistic.py:460: FutureWarning: Default multi_class will be changed to 'auto' in 0.22. Specify the multi_class option to silence this warning.\n",
      "  \"this warning.\", FutureWarning)\n"
     ]
    }
   ],
   "source": [
    "from sklearn.svm import LinearSVC, SVC\n",
    "from sklearn.linear_model import LogisticRegression\n",
    "# svm\n",
    "# clf = LinearSVC(C=1, loss='squared_hinge')\n",
    "# clf = SVC()\n",
    "clf = LogisticRegression(C=5)\n",
    "\n",
    "clf.fit(x_train, y_train)\n",
    "coef = clf.coef_.squeeze()"
   ]
  },
  {
   "cell_type": "code",
   "execution_count": 10,
   "metadata": {},
   "outputs": [
    {
     "ename": "ValueError",
     "evalue": "Target is multiclass but average='binary'. Please choose another average setting.",
     "output_type": "error",
     "traceback": [
      "\u001b[0;31m---------------------------------------------------------------------------\u001b[0m",
      "\u001b[0;31mValueError\u001b[0m                                Traceback (most recent call last)",
      "\u001b[0;32m<ipython-input-10-fbfb27a0f147>\u001b[0m in \u001b[0;36m<module>\u001b[0;34m\u001b[0m\n\u001b[1;32m      2\u001b[0m \u001b[0my_test_pred\u001b[0m \u001b[0;34m=\u001b[0m \u001b[0mclf\u001b[0m\u001b[0;34m.\u001b[0m\u001b[0mpredict\u001b[0m\u001b[0;34m(\u001b[0m\u001b[0mx_test\u001b[0m\u001b[0;34m)\u001b[0m\u001b[0;34m\u001b[0m\u001b[0m\n\u001b[1;32m      3\u001b[0m \u001b[0my_test_prob\u001b[0m \u001b[0;34m=\u001b[0m \u001b[0mclf\u001b[0m\u001b[0;34m.\u001b[0m\u001b[0mpredict_proba\u001b[0m\u001b[0;34m(\u001b[0m\u001b[0mx_test\u001b[0m\u001b[0;34m)\u001b[0m\u001b[0;34m\u001b[0m\u001b[0m\n\u001b[0;32m----> 4\u001b[0;31m results = pd.concat([utils.my_classification_report(y_train, y_train_pred),\n\u001b[0m\u001b[1;32m      5\u001b[0m                      \u001b[0mutils\u001b[0m\u001b[0;34m.\u001b[0m\u001b[0mmy_classification_report\u001b[0m\u001b[0;34m(\u001b[0m\u001b[0my_test\u001b[0m\u001b[0;34m,\u001b[0m \u001b[0my_test_pred\u001b[0m\u001b[0;34m)\u001b[0m\u001b[0;34m,\u001b[0m\u001b[0;34m\u001b[0m\u001b[0m\n\u001b[1;32m      6\u001b[0m                      ], axis=1).transpose()\n",
      "\u001b[0;32m~/Documents/Med-NLP/utils.py\u001b[0m in \u001b[0;36mmy_classification_report\u001b[0;34m(y_true, y_pred)\u001b[0m\n\u001b[1;32m    503\u001b[0m     \u001b[0mCM\u001b[0m \u001b[0;34m=\u001b[0m \u001b[0msklearn\u001b[0m\u001b[0;34m.\u001b[0m\u001b[0mmetrics\u001b[0m\u001b[0;34m.\u001b[0m\u001b[0mconfusion_matrix\u001b[0m\u001b[0;34m(\u001b[0m\u001b[0my_true\u001b[0m\u001b[0;34m,\u001b[0m \u001b[0my_pred\u001b[0m\u001b[0;34m,\u001b[0m \u001b[0mlabels\u001b[0m\u001b[0;34m=\u001b[0m\u001b[0mlabels\u001b[0m\u001b[0;34m)\u001b[0m\u001b[0;34m\u001b[0m\u001b[0m\n\u001b[1;32m    504\u001b[0m     \u001b[0mCM\u001b[0m \u001b[0;34m=\u001b[0m \u001b[0mpd\u001b[0m\u001b[0;34m.\u001b[0m\u001b[0mDataFrame\u001b[0m\u001b[0;34m(\u001b[0m\u001b[0mCM\u001b[0m\u001b[0;34m,\u001b[0m \u001b[0mcolumns\u001b[0m\u001b[0;34m=\u001b[0m\u001b[0mlabels\u001b[0m\u001b[0;34m,\u001b[0m \u001b[0mindex\u001b[0m\u001b[0;34m=\u001b[0m\u001b[0mlabels\u001b[0m\u001b[0;34m)\u001b[0m\u001b[0;34m\u001b[0m\u001b[0m\n\u001b[0;32m--> 505\u001b[0;31m     \u001b[0msensitivity\u001b[0m \u001b[0;34m=\u001b[0m \u001b[0mrecall_score\u001b[0m\u001b[0;34m(\u001b[0m\u001b[0my_true\u001b[0m\u001b[0;34m,\u001b[0m \u001b[0my_pred\u001b[0m\u001b[0;34m)\u001b[0m\u001b[0;34m\u001b[0m\u001b[0m\n\u001b[0m\u001b[1;32m    506\u001b[0m     \u001b[0mspecificity\u001b[0m \u001b[0;34m=\u001b[0m \u001b[0mCM\u001b[0m\u001b[0;34m.\u001b[0m\u001b[0miloc\u001b[0m\u001b[0;34m[\u001b[0m\u001b[0;36m0\u001b[0m\u001b[0;34m,\u001b[0m \u001b[0;36m0\u001b[0m\u001b[0;34m]\u001b[0m \u001b[0;34m/\u001b[0m \u001b[0mCM\u001b[0m\u001b[0;34m.\u001b[0m\u001b[0miloc\u001b[0m\u001b[0;34m[\u001b[0m\u001b[0;36m0\u001b[0m\u001b[0;34m,\u001b[0m \u001b[0;34m:\u001b[0m\u001b[0;34m]\u001b[0m\u001b[0;34m.\u001b[0m\u001b[0msum\u001b[0m\u001b[0;34m(\u001b[0m\u001b[0;34m)\u001b[0m\u001b[0;34m\u001b[0m\u001b[0m\n\u001b[1;32m    507\u001b[0m     \u001b[0mprecision\u001b[0m \u001b[0;34m=\u001b[0m \u001b[0mprecision_score\u001b[0m\u001b[0;34m(\u001b[0m\u001b[0my_true\u001b[0m\u001b[0;34m,\u001b[0m \u001b[0my_pred\u001b[0m\u001b[0;34m)\u001b[0m\u001b[0;34m\u001b[0m\u001b[0m\n",
      "\u001b[0;32m~/virtualenvs/nlp3/lib/python3.7/site-packages/sklearn/metrics/classification.py\u001b[0m in \u001b[0;36mrecall_score\u001b[0;34m(y_true, y_pred, labels, pos_label, average, sample_weight)\u001b[0m\n\u001b[1;32m   1365\u001b[0m                                                  \u001b[0maverage\u001b[0m\u001b[0;34m=\u001b[0m\u001b[0maverage\u001b[0m\u001b[0;34m,\u001b[0m\u001b[0;34m\u001b[0m\u001b[0m\n\u001b[1;32m   1366\u001b[0m                                                  \u001b[0mwarn_for\u001b[0m\u001b[0;34m=\u001b[0m\u001b[0;34m(\u001b[0m\u001b[0;34m'recall'\u001b[0m\u001b[0;34m,\u001b[0m\u001b[0;34m)\u001b[0m\u001b[0;34m,\u001b[0m\u001b[0;34m\u001b[0m\u001b[0m\n\u001b[0;32m-> 1367\u001b[0;31m                                                  sample_weight=sample_weight)\n\u001b[0m\u001b[1;32m   1368\u001b[0m     \u001b[0;32mreturn\u001b[0m \u001b[0mr\u001b[0m\u001b[0;34m\u001b[0m\u001b[0m\n\u001b[1;32m   1369\u001b[0m \u001b[0;34m\u001b[0m\u001b[0m\n",
      "\u001b[0;32m~/virtualenvs/nlp3/lib/python3.7/site-packages/sklearn/metrics/classification.py\u001b[0m in \u001b[0;36mprecision_recall_fscore_support\u001b[0;34m(y_true, y_pred, beta, labels, pos_label, average, warn_for, sample_weight)\u001b[0m\n\u001b[1;32m   1045\u001b[0m         \u001b[0;32melse\u001b[0m\u001b[0;34m:\u001b[0m\u001b[0;34m\u001b[0m\u001b[0m\n\u001b[1;32m   1046\u001b[0m             raise ValueError(\"Target is %s but average='binary'. Please \"\n\u001b[0;32m-> 1047\u001b[0;31m                              \"choose another average setting.\" % y_type)\n\u001b[0m\u001b[1;32m   1048\u001b[0m     \u001b[0;32melif\u001b[0m \u001b[0mpos_label\u001b[0m \u001b[0;32mnot\u001b[0m \u001b[0;32min\u001b[0m \u001b[0;34m(\u001b[0m\u001b[0;32mNone\u001b[0m\u001b[0;34m,\u001b[0m \u001b[0;36m1\u001b[0m\u001b[0;34m)\u001b[0m\u001b[0;34m:\u001b[0m\u001b[0;34m\u001b[0m\u001b[0m\n\u001b[1;32m   1049\u001b[0m         warnings.warn(\"Note that pos_label (set to %r) is ignored when \"\n",
      "\u001b[0;31mValueError\u001b[0m: Target is multiclass but average='binary'. Please choose another average setting."
     ]
    }
   ],
   "source": [
    "y_train_pred = clf.predict(x_train)\n",
    "y_test_pred = clf.predict(x_test)\n",
    "y_test_prob = clf.predict_proba(x_test)\n",
    "results = pd.concat([utils.my_classification_report(y_train, y_train_pred),\n",
    "                     utils.my_classification_report(y_test, y_test_pred),\n",
    "                     ], axis=1).transpose()\n",
    "results.index = ['training', 'testing']\n",
    "display(results)"
   ]
  },
  {
   "cell_type": "code",
   "execution_count": null,
   "metadata": {
    "scrolled": true
   },
   "outputs": [],
   "source": [
    "# Confidence interval for the prediction \n",
    "model = \"svm\"\n",
    "output = output_report(y_test, y_test_pred)\n",
    "output.to_csv(\"CI/\" + model +'.csv', header=False)"
   ]
  },
  {
   "cell_type": "code",
   "execution_count": null,
   "metadata": {},
   "outputs": [],
   "source": [
    "# PR Curve\n",
    "pr_curves = []  # reset "
   ]
  },
  {
   "cell_type": "code",
   "execution_count": null,
   "metadata": {},
   "outputs": [],
   "source": [
    "pr_curves.append(precision_recall_curve(y_test, y_test_prob[:, 1]))\n",
    "for pr_curve in pr_curves:\n",
    "    plt.plot(pr_curve[1], pr_curve[0])\n",
    "plt.legend(range(len(pr_curves)))"
   ]
  },
  {
   "cell_type": "code",
   "execution_count": null,
   "metadata": {},
   "outputs": [],
   "source": [
    "precision, recall, thres = pr_curves[0]"
   ]
  },
  {
   "cell_type": "code",
   "execution_count": null,
   "metadata": {},
   "outputs": [],
   "source": [
    "from sklearn.metrics import accuracy_score, f1_score"
   ]
  },
  {
   "cell_type": "code",
   "execution_count": null,
   "metadata": {},
   "outputs": [],
   "source": [
    "accuracy_score(y_test, y_test_prob[:,1] > 0.5)"
   ]
  },
  {
   "cell_type": "code",
   "execution_count": null,
   "metadata": {},
   "outputs": [],
   "source": [
    "target_thres = 0.2\n",
    "print(np.min(np.abs(thres - target_thres)))\n",
    "print(precision[np.argmin(np.abs(thres - target_thres))], recall[np.argmin(np.abs(thres - target_thres))])\n",
    "print(f1_score(y_test, y_test_prob[:,1] > target_thres))"
   ]
  },
  {
   "cell_type": "code",
   "execution_count": null,
   "metadata": {},
   "outputs": [],
   "source": [
    "y_test_prob[:,1].shape"
   ]
  },
  {
   "cell_type": "code",
   "execution_count": 14,
   "metadata": {},
   "outputs": [
    {
     "name": "stdout",
     "output_type": "stream",
     "text": [
      "sensitivity               0.826087\n",
      "specificity               0.966387\n",
      "precision                 0.876923\n",
      "accuracy                  0.934853\n",
      "f1                        0.850746\n",
      "sensitivity CI    [0.7500, 0.8986]\n",
      "specificity CI    [0.9456, 0.9835]\n",
      "precision CI      [0.8036, 0.9400]\n",
      "accuracy CI       [0.9121, 0.9577]\n",
      "f1 CI             [0.7931, 0.9000]\n",
      "dtype: object\n"
     ]
    }
   ],
   "source": [
    "output = utils.output_report(y_test==2, y_test_prob[:,-1] > 0.6)\n",
    "print(output)"
   ]
  },
  {
   "cell_type": "code",
   "execution_count": null,
   "metadata": {},
   "outputs": [],
   "source": [
    "# ROC curve\n",
    "rocs = []  # reset "
   ]
  },
  {
   "cell_type": "code",
   "execution_count": null,
   "metadata": {},
   "outputs": [],
   "source": [
    "rocs.append(roc_curve(y_test, y_test_prob[:, 1]))\n",
    "for roc in rocs:\n",
    "    plt.plot(roc[0], roc[1])\n",
    "plt.legend(range(len(rocs)))"
   ]
  },
  {
   "cell_type": "code",
   "execution_count": null,
   "metadata": {},
   "outputs": [],
   "source": [
    "# features with the big weights\n",
    "idx = np.absolute(coef).argsort()[::-1]\n",
    "plt.plot(coef[idx])\n",
    "plt.show()\n",
    "idx2word_agg = pd.Series(obj.idx2word_concat)\n",
    "display(idx2word_agg[idx[:20]])"
   ]
  },
  {
   "cell_type": "code",
   "execution_count": null,
   "metadata": {},
   "outputs": [],
   "source": [
    "# output failed cases.\n",
    "pd.set_option('display.max_colwidth', -1)\n",
    "false_positive = (y_test_pred - y_test) > 0\n",
    "display(df_test.loc[false_positive,:].applymap(utils.list2str))"
   ]
  },
  {
   "cell_type": "markdown",
   "metadata": {},
   "source": [
    "---\n",
    "---\n",
    "# Neural Nets"
   ]
  },
  {
   "cell_type": "markdown",
   "metadata": {},
   "source": [
    "**Data Prep**"
   ]
  },
  {
   "cell_type": "code",
   "execution_count": null,
   "metadata": {},
   "outputs": [],
   "source": [
    "df_train.columns"
   ]
  },
  {
   "cell_type": "code",
   "execution_count": null,
   "metadata": {},
   "outputs": [],
   "source": [
    "maxlen = [100,\n",
    "          125,\n",
    "          50,\n",
    "          100]"
   ]
  },
  {
   "cell_type": "code",
   "execution_count": null,
   "metadata": {},
   "outputs": [],
   "source": [
    "x_train_text = utils.Dataframe_Proc.df2text(df_train, df_train.columns[1:])\n",
    "word2idx, idx2word = utils.Text_Proc.ngram_vocab_processor(x_train_text, ngram=1, min_count=2)\n",
    "x_train = np.array(utils.Text_Proc.encode_texts(x_train_text, word2idx, maxlen=sum(maxlen)))\n",
    "\n",
    "enc = OneHotEncoder(sparse=False)\n",
    "y_train = enc.fit_transform(y_train[:, None])\n",
    "\n",
    "x_dev_text = utils.Dataframe_Proc.df2text(df_test, df_test.columns[1:])\n",
    "x_dev = np.array(utils.Text_Proc.encode_texts(x_dev_text, word2idx, maxlen=x_train.shape[1]))\n",
    "\n",
    "y_dev = enc.transform(y_test[:, None])"
   ]
  },
  {
   "cell_type": "code",
   "execution_count": null,
   "metadata": {},
   "outputs": [],
   "source": [
    "x_train.shape"
   ]
  },
  {
   "cell_type": "markdown",
   "metadata": {},
   "source": [
    "### NN Models"
   ]
  },
  {
   "cell_type": "code",
   "execution_count": null,
   "metadata": {},
   "outputs": [],
   "source": [
    "tf.__version__"
   ]
  },
  {
   "cell_type": "code",
   "execution_count": null,
   "metadata": {},
   "outputs": [],
   "source": [
    "# Clear flags\n",
    "for key in [key for key in FLAGS._flags().keys()]:\n",
    "    FLAGS.__delattr__(key)\n",
    "\n",
    "# Both CNN and RNN\n",
    "tf.flags.DEFINE_integer(\"embedding_dim\", 64, \"Dimensionality of character embedding (default: 128)\")\n",
    "tf.flags.DEFINE_float(\"dropout_keep_prob\", 0.5, \"Dropout keep probability (default: 0.5)\")\n",
    "tf.flags.DEFINE_float(\"l2_reg_lambda\", 1.0, \"L2 regularization lambda (default: 0.0)\")\n",
    "\n",
    "# CNN parameter\n",
    "tf.flags.DEFINE_string(\"filter_sizes\", \"2,2,2\", \"Comma-separated filter sizes (default: '3,4,5')\")\n",
    "tf.flags.DEFINE_integer(\"num_filters\", 128, \"Number of filters per filter size (default: 128)\")\n",
    "\n",
    "# RNN parameter\n",
    "tf.flags.DEFINE_integer('hidden_size', 64, 'Hidden size of LSTM')\n",
    "tf.flags.DEFINE_integer('num_layers', 1, 'Number of LSTM layers')\n",
    "\n",
    "# Training parameters\n",
    "tf.flags.DEFINE_integer(\"batch_size\", 64, \"Batch Size (default: 64)\")\n",
    "tf.flags.DEFINE_integer(\"num_epochs\", 200, \"Number of training epochs (default: 200)\")\n",
    "tf.flags.DEFINE_integer(\"evaluate_every\", 100, \"Evaluate model on dev set after this many steps (default: 100)\")\n",
    "tf.flags.DEFINE_integer(\"checkpoint_every\", 100, \"Save model after this many steps (default: 100)\")\n",
    "tf.flags.DEFINE_integer(\"num_checkpoints\", 5, \"Number of checkpoints to store (default: 5)\")\n",
    "tf.flags.DEFINE_integer(\"log_every\", 20, \"Logs model on dev set after this many steps (default: 100)\")\n",
    "\n",
    "# Misc Parameters\n",
    "tf.flags.DEFINE_boolean(\"allow_soft_placement\", True, \"Allow device soft device placement\")\n",
    "tf.flags.DEFINE_boolean(\"log_device_placement\", False, \"Log placement of ops on devices\")\n",
    "\n",
    "# Fix Bugs \n",
    "tf.app.flags.DEFINE_string('f', '', 'kernel')\n",
    "\n",
    "FLAGS = tf.flags.FLAGS\n",
    "# FLAGS._parse_flags()\n",
    "print(\"\\nParameters:\")\n",
    "for attr, value in sorted(FLAGS.__flags.items()):\n",
    "    print(\"{}={}\".format(attr.upper(), value))\n",
    "print(\"\")"
   ]
  },
  {
   "cell_type": "code",
   "execution_count": null,
   "metadata": {},
   "outputs": [],
   "source": [
    "with tf.Graph().as_default():\n",
    "    session_conf = tf.ConfigProto(\n",
    "      allow_soft_placement=FLAGS.allow_soft_placement,\n",
    "      log_device_placement=FLAGS.log_device_placement)\n",
    "    sess = tf.Session(config=session_conf)\n",
    "    with sess.as_default():\n",
    "        model = TextCNN(\n",
    "            sequence_length=x_train.shape[1],\n",
    "            num_classes=y_train.shape[1],\n",
    "            vocab_size=len(word2idx),\n",
    "            embedding_size=FLAGS.embedding_dim,\n",
    "            filter_sizes=list(map(int, FLAGS.filter_sizes.split(\",\"))),\n",
    "            num_filters=FLAGS.num_filters,\n",
    "            l2_reg_lambda=FLAGS.l2_reg_lambda)\n",
    "\n",
    "#         model = TextCNN_field_aware(sequence_lengths=maxlen,\n",
    "#                                     num_classes=y_train.shape[1],\n",
    "#                                     vocab_size=len(word2idx),\n",
    "#                                     embedding_size=FLAGS.embedding_dim,\n",
    "#                                     filter_sizes=list(map(int, FLAGS.filter_sizes.split(\",\"))),\n",
    "#                                     num_filters=FLAGS.num_filters,\n",
    "#                                     l2_reg_lambda=FLAGS.l2_reg_lambda)\n",
    "\n",
    "#         model = TextRNN(sequence_length=sum(maxlen),\n",
    "#                         num_classes=y_train.shape[1],\n",
    "#                         vocab_size=len(word2idx),\n",
    "#                         embedding_size=FLAGS.embedding_dim,\n",
    "#                         hidden_size=FLAGS.hidden_size,\n",
    "#                         num_layers=FLAGS.num_layers,\n",
    "#                         l2_reg_lambda=FLAGS.l2_reg_lambda)\n",
    "\n",
    "#         model = TextRNN_field_aware(sequence_lengths=maxlen,\n",
    "#                                     num_classes=y_train.shape[1],\n",
    "#                                     vocab_size=len(word2idx),\n",
    "#                                     embedding_size=FLAGS.embedding_dim,\n",
    "#                                     hidden_size=FLAGS.hidden_size,\n",
    "#                                     num_layers=FLAGS.num_layers,\n",
    "#                                     l2_reg_lambda=FLAGS.l2_reg_lambda)\n",
    "\n",
    "#         model = TextRNN_attention(sequence_length=sum(maxlen),\n",
    "#                         num_classes=y_train.shape[1],\n",
    "#                         vocab_size=len(word2idx),\n",
    "#                         embedding_size=FLAGS.embedding_dim,\n",
    "#                         hidden_size=FLAGS.hidden_size,\n",
    "#                         num_layers=FLAGS.num_layers,\n",
    "#                         l2_reg_lambda=FLAGS.l2_reg_lambda)\n",
    "\n",
    "\n",
    "        # Define Training procedure\n",
    "        global_step = tf.Variable(0, name=\"global_step\", trainable=False)\n",
    "        # optimizer = tf.train.GradientDescentOptimizer(1e-3)\n",
    "        optimizer = tf.train.AdamOptimizer(1e-3)\n",
    "        grads_and_vars = optimizer.compute_gradients(model.loss)\n",
    "        train_op = optimizer.apply_gradients(grads_and_vars, global_step=global_step)\n",
    "\n",
    "        # Keep track of gradient values and sparsity (optional)\n",
    "        grad_summaries = []\n",
    "        for g, v in grads_and_vars:\n",
    "            if g is not None:\n",
    "                grad_hist_summary = tf.summary.histogram(\"{}/grad/hist\".format(v.name), g)\n",
    "                sparsity_summary = tf.summary.scalar(\"{}/grad/sparsity\".format(v.name), tf.nn.zero_fraction(g))\n",
    "                grad_summaries.append(grad_hist_summary)\n",
    "                grad_summaries.append(sparsity_summary)\n",
    "        grad_summaries_merged = tf.summary.merge(grad_summaries)\n",
    "\n",
    "        # Output directory for models and summaries\n",
    "        timestamp = str(int(time.time()))\n",
    "\n",
    "        if 'CNN' in model.__class__.__name__:\n",
    "            name = \"CNN_{}_{}_\".format(FLAGS.embedding_dim, FLAGS.num_filters)\n",
    "        elif 'RNN' in model.__class__.__name__:\n",
    "            name = \"RNN_{}_{}_{}_\".format(FLAGS.embedding_dim, FLAGS.hidden_size, FLAGS.num_layers)\n",
    "\n",
    "\n",
    "        out_dir = os.path.abspath(os.path.join(os.path.curdir, \"runs\", name + timestamp))\n",
    "        print(\"Writing to {}\\n\".format(out_dir))\n",
    "\n",
    "        # Summaries for loss and accuracy\n",
    "        loss_summary = tf.summary.scalar(\"loss\", model.loss)\n",
    "        acc_summary = tf.summary.scalar(\"accuracy\", model.accuracy)\n",
    "\n",
    "        # Train Summaries\n",
    "        train_summary_op = tf.summary.merge([loss_summary, acc_summary, grad_summaries_merged])\n",
    "        train_summary_dir = os.path.join(out_dir, \"summaries\", \"train\")\n",
    "        train_summary_writer = tf.summary.FileWriter(train_summary_dir, sess.graph)\n",
    "\n",
    "        # Dev summaries\n",
    "        dev_summary_op = tf.summary.merge([loss_summary, acc_summary])\n",
    "        dev_summary_dir = os.path.join(out_dir, \"summaries\", \"dev\")\n",
    "        dev_summary_writer = tf.summary.FileWriter(dev_summary_dir, sess.graph)\n",
    "\n",
    "        # Checkpoint directory. Tensorflow assumes this directory already exists so we need to create it\n",
    "        checkpoint_dir = os.path.abspath(os.path.join(out_dir, \"checkpoints\"))\n",
    "        checkpoint_prefix = os.path.join(checkpoint_dir, \"model\")\n",
    "        if not os.path.exists(checkpoint_dir):\n",
    "            os.makedirs(checkpoint_dir)\n",
    "        saver = tf.train.Saver(tf.global_variables(), max_to_keep=FLAGS.num_checkpoints)\n",
    "\n",
    "        # Write vocabulary\n",
    "        # vocab_processor.save(os.path.join(out_dir, \"vocab\"))\n",
    "\n",
    "        # Initialize all variables\n",
    "        sess.run(tf.global_variables_initializer())\n",
    "\n",
    "        def train_step(x_batch, y_batch):\n",
    "            \"\"\"\n",
    "            A single training step\n",
    "            \"\"\"\n",
    "            feed_dict = {\n",
    "                model.input_x: x_batch,\n",
    "                model.input_y: y_batch,\n",
    "                model.dropout_keep_prob: FLAGS.dropout_keep_prob,\n",
    "                model.batch_size: len(x_batch)\n",
    "            }\n",
    "\n",
    "            _, step, summaries, loss, accuracy = sess.run(\n",
    "                [train_op, global_step, train_summary_op, model.loss, model.accuracy],\n",
    "                feed_dict)\n",
    "            time_str = datetime.datetime.now().isoformat()\n",
    "            if step % FLAGS.log_every == 0:\n",
    "                print(\"{}: step {}, loss {:g}, acc {:g}\".format(time_str, step, loss, accuracy))\n",
    "            train_summary_writer.add_summary(summaries, step)\n",
    "\n",
    "        def dev_step(x_batch, y_batch, writer=None):\n",
    "            \"\"\"\n",
    "            Evaluates model on a dev set\n",
    "            \"\"\"\n",
    "            feed_dict = {\n",
    "                model.input_x: x_batch,\n",
    "                model.input_y: y_batch,\n",
    "                model.dropout_keep_prob: 1.0,\n",
    "                model.batch_size: len(x_batch)\n",
    "            }\n",
    "\n",
    "            step, summaries, loss, accuracy = sess.run(\n",
    "                [global_step, dev_summary_op, model.loss, model.accuracy],\n",
    "                feed_dict)\n",
    "            time_str = datetime.datetime.now().isoformat()\n",
    "            print(\"{}: step {}, loss {:g}, acc {:g}\".format(time_str, step, loss, accuracy))\n",
    "            if writer:\n",
    "                writer.add_summary(summaries, step)\n",
    "\n",
    "        # Generate batches\n",
    "        batches = data_helpers.batch_iter(\n",
    "            list(zip(x_train, y_train)), FLAGS.batch_size, FLAGS.num_epochs)\n",
    "        # Training loop. For each batch...\n",
    "        for batch in batches:\n",
    "            x_batch, y_batch = zip(*batch)\n",
    "\n",
    "            train_step(x_batch, y_batch)\n",
    "            current_step = tf.train.global_step(sess, global_step)\n",
    "            if current_step % FLAGS.evaluate_every == 0:\n",
    "                print(\"\\nEvaluation:\")\n",
    "                dev_step(x_dev, y_dev, writer=dev_summary_writer)\n",
    "                print(\"\")\n",
    "            if current_step % FLAGS.checkpoint_every == 0:\n",
    "                path = saver.save(sess, checkpoint_prefix, global_step=current_step)\n",
    "                print(\"Saved model checkpoint to {}\\n\".format(path))\n",
    "\n",
    "        #\n",
    "        feed_dict = {\n",
    "            model.input_x: x_dev,\n",
    "            model.input_y: y_dev,\n",
    "            model.dropout_keep_prob: 1.0,\n",
    "            model.batch_size: len(x_dev)\n",
    "        }\n",
    "        y_dev_pred = sess.run([model.predictions], feed_dict=feed_dict)\n",
    "#         y_dev_pred, alpha = sess.run([model.predictions, model.alpha], feed_dict=feed_dict)"
   ]
  },
  {
   "cell_type": "code",
   "execution_count": null,
   "metadata": {},
   "outputs": [],
   "source": [
    "utils.my_classification_report(y_test, y_dev_pred[0])"
   ]
  },
  {
   "cell_type": "code",
   "execution_count": null,
   "metadata": {},
   "outputs": [],
   "source": [
    "model = \"TextRNN_field_aware\"\n",
    "output = output_report(y_test, y_dev_pred[0])\n",
    "output.to_csv(\"CI/\" + model +'.csv', header=False)"
   ]
  },
  {
   "cell_type": "markdown",
   "metadata": {},
   "source": [
    "---------"
   ]
  },
  {
   "cell_type": "markdown",
   "metadata": {},
   "source": [
    "## Classification Model"
   ]
  },
  {
   "cell_type": "markdown",
   "metadata": {},
   "source": [
    "## Use findings and impression to predict present and pass"
   ]
  },
  {
   "cell_type": "code",
   "execution_count": null,
   "metadata": {},
   "outputs": [],
   "source": [
    "df['history'][1]"
   ]
  },
  {
   "cell_type": "code",
   "execution_count": null,
   "metadata": {},
   "outputs": [],
   "source": [
    "#for PAST without inconsistency\n",
    "fields = [\n",
    "    'history',\n",
    "    'findings',\n",
    "    'comparison',\n",
    "    'impression',\n",
    "]\n",
    "foo = df[~df['Past'].isnull() & df['Count'] != 1].sample(frac=1)\n",
    "df_train = foo.iloc[:1240]\n",
    "y_train = np.array(df_train['Past'].astype(int))\n",
    "df_test = foo.iloc[1240:]\n",
    "y_test = np.array(df_test['Past'].astype(int))\n",
    "obj = utils.Df2TFIDF()\n",
    "obj.fit(df_train, fields, ngram=5, min_count=5)\n",
    "output_train = obj.transform(df_train, fields)\n",
    "output_test = obj.transform(df_test, fields)\n",
    "# concatenate sparse matrices of all fields\n",
    "from scipy.sparse import hstack\n",
    "x_train = hstack([foo['bow_tfidf'] for foo in output_train.itervalues()])\n",
    "# TODO (xiao)\n",
    "x_test = hstack([foo['bow_tfidf'] for foo in output_test.itervalues()])\n",
    "print(x_train.shape)\n",
    "print(x_test.shape)"
   ]
  },
  {
   "cell_type": "code",
   "execution_count": null,
   "metadata": {},
   "outputs": [],
   "source": [
    "#for PRESENT\n",
    "fields = [\n",
    "    'history', \n",
    "    'findings', \n",
    "    'comparison',\n",
    "    'impression',\n",
    "]\n",
    "#'history', 'impression', 'findings', 'comparison'\n",
    "foo = df[~df['Present'].isnull()].sample(frac=1)\n",
    "foo = foo.loc[foo['Present']!=0, :]\n",
    "df_train = foo.iloc[:1100]\n",
    "y_train = np.array(df_train['Present'].astype(int))\n",
    "df_test = foo.iloc[1100:]\n",
    "y_test = np.array(df_test['Present'].astype(int))\n",
    "obj = utils.Df2TFIDF()\n",
    "obj.fit(df_train, fields, ngram=5, min_count=2)\n",
    "output_train = obj.transform(df_train, fields)\n",
    "output_test = obj.transform(df_test, fields)\n",
    "# concatenate sparse matrices of all fields\n",
    "x_train = hstack([foo['bow_tfidf'] for foo in output_train.itervalues()])\n",
    "x_test = hstack([foo['bow_tfidf'] for foo in output_test.itervalues()])\n",
    "print x_train.shape\n",
    "print x_test.shape"
   ]
  },
  {
   "cell_type": "code",
   "execution_count": null,
   "metadata": {},
   "outputs": [],
   "source": [
    "#for Left Grade\n",
    "fields = ['history', 'findings', 'comparison','impression']\n",
    "foo = df[~df['Left'].isnull() & df['Left'] != 0].sample(frac=1)\n",
    "df_train = foo.iloc[:210]\n",
    "y_train = np.array(df_train['Past'].astype(int))\n",
    "df_test = foo.iloc[210:]\n",
    "y_test = np.array(df_test['Past'].astype(int))\n",
    "obj = utils.Df2TFIDF()\n",
    "obj.fit(df_train, fields, ngram=5, min_count=5)\n",
    "output_train = obj.transform(df_train, fields)\n",
    "output_test = obj.transform(df_test, fields)\n",
    "\n",
    "# concatenate sparse matrices of all fields\n",
    "from scipy.sparse import hstack\n",
    "x_train = hstack([foo['bow_tfidf'] for foo in output_train.itervalues()])\n",
    "# TODO (xiao)\n",
    "x_test = hstack([foo['bow_tfidf'] for foo in output_test.itervalues()])\n",
    "print x_train.shape\n",
    "print x_test.shape"
   ]
  },
  {
   "cell_type": "code",
   "execution_count": null,
   "metadata": {},
   "outputs": [],
   "source": [
    "#for Left Grade\n",
    "fields = ['history', 'findings', 'comparison','impression']\n",
    "foo = df[~df['Right'].isnull() & df['Right'] != 0].sample(frac=1)\n",
    "df_train = foo.iloc[:200]\n",
    "y_train = np.array(df_train['Past'].astype(int))\n",
    "df_test = foo.iloc[200:]\n",
    "y_test = np.array(df_test['Past'].astype(int))\n",
    "obj = utils.Df2TFIDF()\n",
    "obj.fit(df_train, fields, ngram=5, min_count=5)\n",
    "output_train = obj.transform(df_train, fields)\n",
    "output_test = obj.transform(df_test, fields)\n",
    "\n",
    "# concatenate sparse matrices of all fields\n",
    "from scipy.sparse import hstack\n",
    "x_train = hstack([foo['bow_tfidf'] for foo in output_train.itervalues()])\n",
    "# TODO (xiao)\n",
    "x_test = hstack([foo['bow_tfidf'] for foo in output_test.itervalues()])\n",
    "print x_train.shape\n",
    "print x_test.shape"
   ]
  },
  {
   "cell_type": "markdown",
   "metadata": {},
   "source": [
    "### run classifier"
   ]
  },
  {
   "cell_type": "code",
   "execution_count": null,
   "metadata": {},
   "outputs": [],
   "source": [
    "from sklearn.svm import LinearSVC, SVC\n",
    "from sklearn.linear_model import LogisticRegression\n",
    "# svm\n",
    "clf = LinearSVC(C=1, loss='squared_hinge')\n",
    "#clf = SVC()\n",
    "#clf = LogisticRegression(C=3)\n",
    "\n",
    "clf.fit(x_train, y_train)\n",
    "coef = clf.coef_.squeeze()"
   ]
  },
  {
   "cell_type": "code",
   "execution_count": null,
   "metadata": {},
   "outputs": [],
   "source": [
    "x_train.shape"
   ]
  },
  {
   "cell_type": "code",
   "execution_count": null,
   "metadata": {},
   "outputs": [],
   "source": [
    "y_train_pred = clf.predict(x_train)\n",
    "y_test_pred = clf.predict(x_test)\n",
    "results = pd.concat([utils.my_classification_report(y_train, y_train_pred),\n",
    "                     utils.my_classification_report(y_test, y_test_pred),\n",
    "                     ], axis=1).transpose()\n",
    "results.index = ['training', 'testing']\n",
    "display(results)"
   ]
  },
  {
   "cell_type": "code",
   "execution_count": null,
   "metadata": {},
   "outputs": [],
   "source": [
    "# features with the big weights\n",
    "idx = np.absolute(coef).argsort()[::-1]\n",
    "plt.plot(coef[idx])\n",
    "plt.show()\n",
    "idx2word_agg = pd.Series(obj.idx2word_concat)\n",
    "display(idx2word_agg[idx[:20]])"
   ]
  },
  {
   "cell_type": "code",
   "execution_count": null,
   "metadata": {},
   "outputs": [],
   "source": [
    "# output failed cases.\n",
    "pd.set_option('display.max_colwidth', -1)\n",
    "fields = [\n",
    "    'Past',\n",
    "    'history', \n",
    "    'findings', \n",
    "    'comparison', \n",
    "    'impression'\n",
    "]\n",
    "false_positive = (y_test_pred - y_test) > 0\n",
    "display(df_test.loc[false_positive,fields].applymap(utils.list2str))"
   ]
  },
  {
   "cell_type": "markdown",
   "metadata": {},
   "source": [
    "---\n",
    "# Semi - Supervised Learning"
   ]
  },
  {
   "cell_type": "markdown",
   "metadata": {},
   "source": [
    "## Prepare data"
   ]
  },
  {
   "cell_type": "markdown",
   "metadata": {},
   "source": [
    "### Labeled Data"
   ]
  },
  {
   "cell_type": "code",
   "execution_count": null,
   "metadata": {},
   "outputs": [],
   "source": [
    "filename = 'Data/upto1528.xlsx'\n",
    "df_raw = pd.read_excel(open(filename, 'r'))\n",
    "# get data frame\n",
    "ps = utils.Parser()\n",
    "ps.parser(df_raw)\n",
    "df = ps.df\n",
    "for idx, row in df['findings'].iteritems():\n",
    "    try:\n",
    "        text, velos = utils.parse_findings(row)\n",
    "        df.set_value(idx, 'findings', text)\n",
    "        for n, v in velos:\n",
    "            df.set_value(idx, n, v)\n",
    "    except:\n",
    "        pass\n",
    "discardField = ['Report Text']\n",
    "foo = [item for item in df.columns.tolist() if item not in ORDERED_NAMES + discardField]\n",
    "foo.sort()\n",
    "CORE_COL = ORDERED_NAMES + foo\n",
    "df = df[CORE_COL]\n",
    "df_labeled = pd.concat([df_raw[['Past', 'Present', 'Left', 'Right', 'Count']], df[CORE_COL]], axis=1)"
   ]
  },
  {
   "cell_type": "markdown",
   "metadata": {},
   "source": [
    "### Unlabeled Data"
   ]
  },
  {
   "cell_type": "code",
   "execution_count": null,
   "metadata": {},
   "outputs": [],
   "source": [
    "filename = 'Data/2011-2016.xlsx'\n",
    "df_raw = pd.read_excel(open(filename, 'r'))\n",
    "# get data frame\n",
    "ps = utils.Parser()\n",
    "ps.parser(df_raw)\n",
    "df = ps.df\n",
    "for idx, row in df['findings'].iteritems():\n",
    "    try:\n",
    "        text, velos = utils.parse_findings(row)\n",
    "        df.set_value(idx, 'findings', text)\n",
    "        for n, v in velos:\n",
    "            df.set_value(idx, n, v)\n",
    "    except:\n",
    "        pass\n",
    "discardField = ['Report Text']\n",
    "foo = [item for item in df.columns.tolist() if item not in ORDERED_NAMES + discardField]\n",
    "foo.sort()\n",
    "CORE_COL = ORDERED_NAMES + foo\n",
    "df_unlabeled = df[CORE_COL]\n",
    "# df = pd.concat([df_raw[['Past', 'Present', 'Left', 'Right', 'Count']], df[CORE_COL]], axis=1)"
   ]
  },
  {
   "cell_type": "markdown",
   "metadata": {},
   "source": [
    "----"
   ]
  },
  {
   "cell_type": "code",
   "execution_count": null,
   "metadata": {},
   "outputs": [],
   "source": [
    "#for PAST\n",
    "fields = [\n",
    "    'history', \n",
    "    'findings', \n",
    "    'comparison', \n",
    "    'impression'\n",
    "]\n",
    "# labeled data\n",
    "df_labeled = utils.null2empty(df_labeled, fields)\n",
    "foo = df_labeled[~df_labeled['Past'].isnull() & df_labeled['Past'] != 0].sample(frac=1, random_state=1)\n",
    "df_train_labeled = foo.iloc[:1220]\n",
    "y_train_labeled = np.array(df_train_labeled['Past'].astype(int))\n",
    "y_train_labeled[y_train_labeled==-1] = 0 # turn -1 to 0\n",
    "df_test = foo.iloc[1220:]\n",
    "y_test = np.array(df_test['Past'].astype(int))\n",
    "y_test[y_test==-1] = 0 # turn -1 to 0\n",
    "obj = utils.Df2TFIDF()\n",
    "obj.fit(df_train_labeled, fields, ngram=5, min_count=5)\n",
    "output_train_labeled = obj.transform(df_train_labeled, fields)\n",
    "output_test = obj.transform(df_test, fields)\n",
    "# concatenate sparse matrices of all fields\n",
    "x_train_labeled = hstack([foo['bow_tfidf'] for foo in output_train_labeled.itervalues()])\n",
    "x_test = hstack([foo['bow_tfidf'] for foo in output_test.itervalues()])\n",
    "print x_train_labeled.shape\n",
    "print x_test.shape\n",
    "# unlabeled data\n",
    "df_unlabeled = utils.null2empty(df_unlabeled, fields)\n",
    "# obj = utils.Df2TFIDF()\n",
    "# obj.fit(df_train_unlabeled, fields, ngram=5, min_count=5)\n",
    "output_train_unlabeled = obj.transform(df_unlabeled, fields)\n",
    "x_train_unlabeled = hstack([foo['bow_tfidf'] for foo in output_train_unlabeled.itervalues()])\n",
    "print x_train_unlabeled.shape"
   ]
  },
  {
   "cell_type": "code",
   "execution_count": null,
   "metadata": {},
   "outputs": [],
   "source": [
    "x_train = vstack([x_train_labeled, x_train_unlabeled])\n",
    "y_train = np.append(y_train_labeled, np.ones(x_train_unlabeled.shape[0], dtype=int) * -1)"
   ]
  },
  {
   "cell_type": "code",
   "execution_count": null,
   "metadata": {},
   "outputs": [],
   "source": [
    "from sklearn.semi_supervised import LabelPropagation\n",
    "semi_clf = LabelPropagation(kernel='rbf', gamma=20, n_jobs=-1)\n",
    "semi_clf.fit(x_train.toarray(), y_train)"
   ]
  },
  {
   "cell_type": "code",
   "execution_count": null,
   "metadata": {},
   "outputs": [],
   "source": [
    "y_train_pred = semi_clf.predict(x_train_labeled.toarray())\n",
    "y_test_pred = semi_clf.predict(x_test.toarray())\n",
    "results = pd.concat([utils.my_classification_report(y_train_labeled, y_train_pred),\n",
    "                     utils.my_classification_report(y_test, y_test_pred),\n",
    "                     ], axis=1).transpose()\n",
    "results.index = ['training', 'testing']\n",
    "display(results)"
   ]
  }
 ],
 "metadata": {
  "celltoolbar": "Raw Cell Format",
  "kernelspec": {
   "display_name": "Python 3",
   "language": "python",
   "name": "python3"
  },
  "language_info": {
   "codemirror_mode": {
    "name": "ipython",
    "version": 3
   },
   "file_extension": ".py",
   "mimetype": "text/x-python",
   "name": "python",
   "nbconvert_exporter": "python",
   "pygments_lexer": "ipython3",
   "version": "3.7.0"
  }
 },
 "nbformat": 4,
 "nbformat_minor": 1
}
